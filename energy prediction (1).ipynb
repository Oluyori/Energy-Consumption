{
 "cells": [
  {
   "cell_type": "markdown",
   "metadata": {},
   "source": [
    "## Topic:"
   ]
  },
  {
   "cell_type": "markdown",
   "metadata": {},
   "source": [
    "Data driven prediction models of energy use of appliances in a low-energy house"
   ]
  },
  {
   "cell_type": "markdown",
   "metadata": {},
   "source": [
    "## Brief Description"
   ]
  },
  {
   "cell_type": "markdown",
   "metadata": {},
   "source": [
    "The data set is at 10 min for about 4.5 months. The house temperature and humidity conditions were monitored with a ZigBee wireless sensor network. Each wireless node transmitted the temperature and humidity conditions around 3.3 min. Then, the wireless data was averaged for 10 minutes periods. The energy data was logged every 10 minutes with m-bus energy meters. Weather from the nearest airport weather station (Chievres Airport, Belgium) was downloaded from a public data set from Reliable Prognosis (rp5.ru), and merged together with the experimental data sets using the date and time column. Two random variables have been included in the data set for testing the regression models and to filter out non predictive attributes (parameters)"
   ]
  },
  {
   "cell_type": "markdown",
   "metadata": {},
   "source": [
    "# Attribute information:"
   ]
  },
  {
   "cell_type": "markdown",
   "metadata": {},
   "source": [
    "date time year-month-day hour:minute:second \\\n",
    "Appliances, energy use in Wh \\\n",
    "lights, energy use of light fixtures in the house in Wh \\\n",
    "T1, Temperature in kitchen area, in Celsius \\\n",
    "RH_1, Humidity in kitchen area, in % \\\n",
    "T2, Temperature in living room area, in Celsius \\\n",
    "RH_2, Humidity in living room area, in % \\\n",
    "T3, Temperature in laundry room area \\\n",
    "RH_3, Humidity in laundry room area, in % \\\n",
    "T4, Temperature in office room, in Celsius \\\n",
    "RH_4, Humidity in office room, in % \\\n",
    "T5, Temperature in bathroom, in Celsius \\\n",
    "RH_5, Humidity in bathroom, in % \\\n",
    "T6, Temperature outside the building (north side), in Celsius \\\n",
    "RH_6, Humidity outside the building (north side), in % \\\n",
    "T7, Temperature in ironing room , in Celsius \\\n",
    "RH_7, Humidity in ironing room, in % \\ \n",
    "T8, Temperature in teenager room 2, in Celsius \\\n",
    "RH_8, Humidity in teenager room 2, in % \\\n",
    "T9, Temperature in parents room, in Celsius \\\n",
    "RH_9, Humidity in parents room, in % \\\n",
    "To, Temperature outside (from Chievres weather station), in Celsius \\\n",
    "Pressure (from Chievres weather station), in mm Hg \\\n",
    "RH_out, Humidity outside (from Chievres weather station), in % \\\n",
    "Wind speed (from Chievres weather station), in m/s \\\n",
    "Visibility (from Chievres weather station), in km \\\n",
    "Tdewpoint (from Chievres weather station), Â°C \\\n",
    "rv1, Random variable 1, nondimensional \\\n",
    "rv2, Random variable 2, nondimensional\n",
    "\n",
    "Where indicated, hourly data (then interpolated) from the nearest airport weather station (Chievres Airport, Belgium) was downloaded from a public data set from Reliable Prognosis, rp5.ru. Permission was obtained from Reliable Prognosis for the distribution of the 4.5 months of weather data."
   ]
  },
  {
   "cell_type": "markdown",
   "metadata": {},
   "source": [
    "# Source Data set"
   ]
  },
  {
   "cell_type": "markdown",
   "metadata": {},
   "source": [
    "The energy data source can be found in the link: 'http://archive.ics.uci.edu/ml/machine-learning-databases/00374/energydata_complete.csv'"
   ]
  },
  {
   "cell_type": "markdown",
   "metadata": {},
   "source": [
    "The data will be used throughout this course"
   ]
  },
  {
   "cell_type": "code",
   "execution_count": 1,
   "metadata": {
    "execution": {
     "iopub.execute_input": "2022-04-08T10:38:13.097510Z",
     "iopub.status.busy": "2022-04-08T10:38:13.097086Z",
     "iopub.status.idle": "2022-04-08T10:38:13.884052Z",
     "shell.execute_reply": "2022-04-08T10:38:13.883336Z",
     "shell.execute_reply.started": "2022-04-08T10:38:13.097435Z"
    }
   },
   "outputs": [],
   "source": [
    "import pandas as pd\n",
    "import numpy as np"
   ]
  },
  {
   "cell_type": "markdown",
   "metadata": {},
   "source": [
    "# Import Data from Source"
   ]
  },
  {
   "cell_type": "code",
   "execution_count": 2,
   "metadata": {
    "execution": {
     "iopub.execute_input": "2022-04-08T10:38:13.893853Z",
     "iopub.status.busy": "2022-04-08T10:38:13.893178Z",
     "iopub.status.idle": "2022-04-08T10:38:14.075289Z",
     "shell.execute_reply": "2022-04-08T10:38:14.074559Z",
     "shell.execute_reply.started": "2022-04-08T10:38:13.893799Z"
    }
   },
   "outputs": [],
   "source": [
    "energy = 'energy_data.csv'\n",
    "df = pd.read_csv(energy)"
   ]
  },
  {
   "cell_type": "markdown",
   "metadata": {},
   "source": [
    "Now the data is uploaded, to see what the data set looks like, the head() will be used"
   ]
  },
  {
   "cell_type": "code",
   "execution_count": 3,
   "metadata": {
    "execution": {
     "iopub.execute_input": "2022-04-08T10:38:14.076824Z",
     "iopub.status.busy": "2022-04-08T10:38:14.076604Z",
     "iopub.status.idle": "2022-04-08T10:38:14.111111Z",
     "shell.execute_reply": "2022-04-08T10:38:14.110405Z",
     "shell.execute_reply.started": "2022-04-08T10:38:14.076797Z"
    }
   },
   "outputs": [
    {
     "data": {
      "text/html": [
       "<div>\n",
       "<style scoped>\n",
       "    .dataframe tbody tr th:only-of-type {\n",
       "        vertical-align: middle;\n",
       "    }\n",
       "\n",
       "    .dataframe tbody tr th {\n",
       "        vertical-align: top;\n",
       "    }\n",
       "\n",
       "    .dataframe thead th {\n",
       "        text-align: right;\n",
       "    }\n",
       "</style>\n",
       "<table border=\"1\" class=\"dataframe\">\n",
       "  <thead>\n",
       "    <tr style=\"text-align: right;\">\n",
       "      <th></th>\n",
       "      <th>date</th>\n",
       "      <th>Appliances</th>\n",
       "      <th>lights</th>\n",
       "      <th>T1</th>\n",
       "      <th>RH_1</th>\n",
       "      <th>T2</th>\n",
       "      <th>RH_2</th>\n",
       "      <th>T3</th>\n",
       "      <th>RH_3</th>\n",
       "      <th>T4</th>\n",
       "      <th>...</th>\n",
       "      <th>T9</th>\n",
       "      <th>RH_9</th>\n",
       "      <th>T_out</th>\n",
       "      <th>Press_mm_hg</th>\n",
       "      <th>RH_out</th>\n",
       "      <th>Windspeed</th>\n",
       "      <th>Visibility</th>\n",
       "      <th>Tdewpoint</th>\n",
       "      <th>rv1</th>\n",
       "      <th>rv2</th>\n",
       "    </tr>\n",
       "  </thead>\n",
       "  <tbody>\n",
       "    <tr>\n",
       "      <th>0</th>\n",
       "      <td>11/01/2016 17:00</td>\n",
       "      <td>60</td>\n",
       "      <td>30</td>\n",
       "      <td>19.89</td>\n",
       "      <td>47.596667</td>\n",
       "      <td>19.2</td>\n",
       "      <td>44.790000</td>\n",
       "      <td>19.79</td>\n",
       "      <td>44.730000</td>\n",
       "      <td>19.000000</td>\n",
       "      <td>...</td>\n",
       "      <td>17.033333</td>\n",
       "      <td>45.53</td>\n",
       "      <td>6.60</td>\n",
       "      <td>733.5</td>\n",
       "      <td>92.0</td>\n",
       "      <td>7.000000</td>\n",
       "      <td>63.000000</td>\n",
       "      <td>5.3</td>\n",
       "      <td>13.275433</td>\n",
       "      <td>13.275433</td>\n",
       "    </tr>\n",
       "    <tr>\n",
       "      <th>1</th>\n",
       "      <td>11/01/2016 17:10</td>\n",
       "      <td>60</td>\n",
       "      <td>30</td>\n",
       "      <td>19.89</td>\n",
       "      <td>46.693333</td>\n",
       "      <td>19.2</td>\n",
       "      <td>44.722500</td>\n",
       "      <td>19.79</td>\n",
       "      <td>44.790000</td>\n",
       "      <td>19.000000</td>\n",
       "      <td>...</td>\n",
       "      <td>17.066667</td>\n",
       "      <td>45.56</td>\n",
       "      <td>6.48</td>\n",
       "      <td>733.6</td>\n",
       "      <td>92.0</td>\n",
       "      <td>6.666667</td>\n",
       "      <td>59.166667</td>\n",
       "      <td>5.2</td>\n",
       "      <td>18.606195</td>\n",
       "      <td>18.606195</td>\n",
       "    </tr>\n",
       "    <tr>\n",
       "      <th>2</th>\n",
       "      <td>11/01/2016 17:20</td>\n",
       "      <td>50</td>\n",
       "      <td>30</td>\n",
       "      <td>19.89</td>\n",
       "      <td>46.300000</td>\n",
       "      <td>19.2</td>\n",
       "      <td>44.626667</td>\n",
       "      <td>19.79</td>\n",
       "      <td>44.933333</td>\n",
       "      <td>18.926667</td>\n",
       "      <td>...</td>\n",
       "      <td>17.000000</td>\n",
       "      <td>45.50</td>\n",
       "      <td>6.37</td>\n",
       "      <td>733.7</td>\n",
       "      <td>92.0</td>\n",
       "      <td>6.333333</td>\n",
       "      <td>55.333333</td>\n",
       "      <td>5.1</td>\n",
       "      <td>28.642668</td>\n",
       "      <td>28.642668</td>\n",
       "    </tr>\n",
       "    <tr>\n",
       "      <th>3</th>\n",
       "      <td>11/01/2016 17:30</td>\n",
       "      <td>50</td>\n",
       "      <td>40</td>\n",
       "      <td>19.89</td>\n",
       "      <td>46.066667</td>\n",
       "      <td>19.2</td>\n",
       "      <td>44.590000</td>\n",
       "      <td>19.79</td>\n",
       "      <td>45.000000</td>\n",
       "      <td>18.890000</td>\n",
       "      <td>...</td>\n",
       "      <td>17.000000</td>\n",
       "      <td>45.40</td>\n",
       "      <td>6.25</td>\n",
       "      <td>733.8</td>\n",
       "      <td>92.0</td>\n",
       "      <td>6.000000</td>\n",
       "      <td>51.500000</td>\n",
       "      <td>5.0</td>\n",
       "      <td>45.410390</td>\n",
       "      <td>45.410390</td>\n",
       "    </tr>\n",
       "    <tr>\n",
       "      <th>4</th>\n",
       "      <td>11/01/2016 17:40</td>\n",
       "      <td>60</td>\n",
       "      <td>40</td>\n",
       "      <td>19.89</td>\n",
       "      <td>46.333333</td>\n",
       "      <td>19.2</td>\n",
       "      <td>44.530000</td>\n",
       "      <td>19.79</td>\n",
       "      <td>45.000000</td>\n",
       "      <td>18.890000</td>\n",
       "      <td>...</td>\n",
       "      <td>17.000000</td>\n",
       "      <td>45.40</td>\n",
       "      <td>6.13</td>\n",
       "      <td>733.9</td>\n",
       "      <td>92.0</td>\n",
       "      <td>5.666667</td>\n",
       "      <td>47.666667</td>\n",
       "      <td>4.9</td>\n",
       "      <td>10.084097</td>\n",
       "      <td>10.084097</td>\n",
       "    </tr>\n",
       "  </tbody>\n",
       "</table>\n",
       "<p>5 rows × 29 columns</p>\n",
       "</div>"
      ],
      "text/plain": [
       "               date  Appliances  lights     T1       RH_1    T2       RH_2  \\\n",
       "0  11/01/2016 17:00          60      30  19.89  47.596667  19.2  44.790000   \n",
       "1  11/01/2016 17:10          60      30  19.89  46.693333  19.2  44.722500   \n",
       "2  11/01/2016 17:20          50      30  19.89  46.300000  19.2  44.626667   \n",
       "3  11/01/2016 17:30          50      40  19.89  46.066667  19.2  44.590000   \n",
       "4  11/01/2016 17:40          60      40  19.89  46.333333  19.2  44.530000   \n",
       "\n",
       "      T3       RH_3         T4  ...         T9   RH_9  T_out  Press_mm_hg  \\\n",
       "0  19.79  44.730000  19.000000  ...  17.033333  45.53   6.60        733.5   \n",
       "1  19.79  44.790000  19.000000  ...  17.066667  45.56   6.48        733.6   \n",
       "2  19.79  44.933333  18.926667  ...  17.000000  45.50   6.37        733.7   \n",
       "3  19.79  45.000000  18.890000  ...  17.000000  45.40   6.25        733.8   \n",
       "4  19.79  45.000000  18.890000  ...  17.000000  45.40   6.13        733.9   \n",
       "\n",
       "   RH_out  Windspeed  Visibility  Tdewpoint        rv1        rv2  \n",
       "0    92.0   7.000000   63.000000        5.3  13.275433  13.275433  \n",
       "1    92.0   6.666667   59.166667        5.2  18.606195  18.606195  \n",
       "2    92.0   6.333333   55.333333        5.1  28.642668  28.642668  \n",
       "3    92.0   6.000000   51.500000        5.0  45.410390  45.410390  \n",
       "4    92.0   5.666667   47.666667        4.9  10.084097  10.084097  \n",
       "\n",
       "[5 rows x 29 columns]"
      ]
     },
     "execution_count": 3,
     "metadata": {},
     "output_type": "execute_result"
    }
   ],
   "source": [
    "df.head()"
   ]
  },
  {
   "cell_type": "markdown",
   "metadata": {},
   "source": [
    "To see the tail, df.tail() will be used"
   ]
  },
  {
   "cell_type": "code",
   "execution_count": 4,
   "metadata": {
    "execution": {
     "iopub.execute_input": "2022-04-08T10:38:14.112517Z",
     "iopub.status.busy": "2022-04-08T10:38:14.112261Z",
     "iopub.status.idle": "2022-04-08T10:38:14.219136Z",
     "shell.execute_reply": "2022-04-08T10:38:14.218466Z",
     "shell.execute_reply.started": "2022-04-08T10:38:14.112485Z"
    }
   },
   "outputs": [
    {
     "data": {
      "text/html": [
       "<div>\n",
       "<style scoped>\n",
       "    .dataframe tbody tr th:only-of-type {\n",
       "        vertical-align: middle;\n",
       "    }\n",
       "\n",
       "    .dataframe tbody tr th {\n",
       "        vertical-align: top;\n",
       "    }\n",
       "\n",
       "    .dataframe thead th {\n",
       "        text-align: right;\n",
       "    }\n",
       "</style>\n",
       "<table border=\"1\" class=\"dataframe\">\n",
       "  <thead>\n",
       "    <tr style=\"text-align: right;\">\n",
       "      <th></th>\n",
       "      <th>date</th>\n",
       "      <th>Appliances</th>\n",
       "      <th>lights</th>\n",
       "      <th>T1</th>\n",
       "      <th>RH_1</th>\n",
       "      <th>T2</th>\n",
       "      <th>RH_2</th>\n",
       "      <th>T3</th>\n",
       "      <th>RH_3</th>\n",
       "      <th>T4</th>\n",
       "      <th>...</th>\n",
       "      <th>T9</th>\n",
       "      <th>RH_9</th>\n",
       "      <th>T_out</th>\n",
       "      <th>Press_mm_hg</th>\n",
       "      <th>RH_out</th>\n",
       "      <th>Windspeed</th>\n",
       "      <th>Visibility</th>\n",
       "      <th>Tdewpoint</th>\n",
       "      <th>rv1</th>\n",
       "      <th>rv2</th>\n",
       "    </tr>\n",
       "  </thead>\n",
       "  <tbody>\n",
       "    <tr>\n",
       "      <th>19730</th>\n",
       "      <td>27/05/2016 17:20</td>\n",
       "      <td>100</td>\n",
       "      <td>0</td>\n",
       "      <td>25.566667</td>\n",
       "      <td>46.560000</td>\n",
       "      <td>25.890000</td>\n",
       "      <td>42.025714</td>\n",
       "      <td>27.200000</td>\n",
       "      <td>41.163333</td>\n",
       "      <td>24.7</td>\n",
       "      <td>...</td>\n",
       "      <td>23.2</td>\n",
       "      <td>46.7900</td>\n",
       "      <td>22.7</td>\n",
       "      <td>755.2</td>\n",
       "      <td>55.666667</td>\n",
       "      <td>3.333333</td>\n",
       "      <td>23.666667</td>\n",
       "      <td>13.3</td>\n",
       "      <td>43.096812</td>\n",
       "      <td>43.096812</td>\n",
       "    </tr>\n",
       "    <tr>\n",
       "      <th>19731</th>\n",
       "      <td>27/05/2016 17:30</td>\n",
       "      <td>90</td>\n",
       "      <td>0</td>\n",
       "      <td>25.500000</td>\n",
       "      <td>46.500000</td>\n",
       "      <td>25.754000</td>\n",
       "      <td>42.080000</td>\n",
       "      <td>27.133333</td>\n",
       "      <td>41.223333</td>\n",
       "      <td>24.7</td>\n",
       "      <td>...</td>\n",
       "      <td>23.2</td>\n",
       "      <td>46.7900</td>\n",
       "      <td>22.6</td>\n",
       "      <td>755.2</td>\n",
       "      <td>56.000000</td>\n",
       "      <td>3.500000</td>\n",
       "      <td>24.500000</td>\n",
       "      <td>13.3</td>\n",
       "      <td>49.282940</td>\n",
       "      <td>49.282940</td>\n",
       "    </tr>\n",
       "    <tr>\n",
       "      <th>19732</th>\n",
       "      <td>27/05/2016 17:40</td>\n",
       "      <td>270</td>\n",
       "      <td>10</td>\n",
       "      <td>25.500000</td>\n",
       "      <td>46.596667</td>\n",
       "      <td>25.628571</td>\n",
       "      <td>42.768571</td>\n",
       "      <td>27.050000</td>\n",
       "      <td>41.690000</td>\n",
       "      <td>24.7</td>\n",
       "      <td>...</td>\n",
       "      <td>23.2</td>\n",
       "      <td>46.7900</td>\n",
       "      <td>22.5</td>\n",
       "      <td>755.2</td>\n",
       "      <td>56.333333</td>\n",
       "      <td>3.666667</td>\n",
       "      <td>25.333333</td>\n",
       "      <td>13.3</td>\n",
       "      <td>29.199117</td>\n",
       "      <td>29.199117</td>\n",
       "    </tr>\n",
       "    <tr>\n",
       "      <th>19733</th>\n",
       "      <td>27/05/2016 17:50</td>\n",
       "      <td>420</td>\n",
       "      <td>10</td>\n",
       "      <td>25.500000</td>\n",
       "      <td>46.990000</td>\n",
       "      <td>25.414000</td>\n",
       "      <td>43.036000</td>\n",
       "      <td>26.890000</td>\n",
       "      <td>41.290000</td>\n",
       "      <td>24.7</td>\n",
       "      <td>...</td>\n",
       "      <td>23.2</td>\n",
       "      <td>46.8175</td>\n",
       "      <td>22.3</td>\n",
       "      <td>755.2</td>\n",
       "      <td>56.666667</td>\n",
       "      <td>3.833333</td>\n",
       "      <td>26.166667</td>\n",
       "      <td>13.2</td>\n",
       "      <td>6.322784</td>\n",
       "      <td>6.322784</td>\n",
       "    </tr>\n",
       "    <tr>\n",
       "      <th>19734</th>\n",
       "      <td>27/05/2016 18:00</td>\n",
       "      <td>430</td>\n",
       "      <td>10</td>\n",
       "      <td>25.500000</td>\n",
       "      <td>46.600000</td>\n",
       "      <td>25.264286</td>\n",
       "      <td>42.971429</td>\n",
       "      <td>26.823333</td>\n",
       "      <td>41.156667</td>\n",
       "      <td>24.7</td>\n",
       "      <td>...</td>\n",
       "      <td>23.2</td>\n",
       "      <td>46.8450</td>\n",
       "      <td>22.2</td>\n",
       "      <td>755.2</td>\n",
       "      <td>57.000000</td>\n",
       "      <td>4.000000</td>\n",
       "      <td>27.000000</td>\n",
       "      <td>13.2</td>\n",
       "      <td>34.118851</td>\n",
       "      <td>34.118851</td>\n",
       "    </tr>\n",
       "  </tbody>\n",
       "</table>\n",
       "<p>5 rows × 29 columns</p>\n",
       "</div>"
      ],
      "text/plain": [
       "                   date  Appliances  lights         T1       RH_1         T2  \\\n",
       "19730  27/05/2016 17:20         100       0  25.566667  46.560000  25.890000   \n",
       "19731  27/05/2016 17:30          90       0  25.500000  46.500000  25.754000   \n",
       "19732  27/05/2016 17:40         270      10  25.500000  46.596667  25.628571   \n",
       "19733  27/05/2016 17:50         420      10  25.500000  46.990000  25.414000   \n",
       "19734  27/05/2016 18:00         430      10  25.500000  46.600000  25.264286   \n",
       "\n",
       "            RH_2         T3       RH_3    T4  ...    T9     RH_9  T_out  \\\n",
       "19730  42.025714  27.200000  41.163333  24.7  ...  23.2  46.7900   22.7   \n",
       "19731  42.080000  27.133333  41.223333  24.7  ...  23.2  46.7900   22.6   \n",
       "19732  42.768571  27.050000  41.690000  24.7  ...  23.2  46.7900   22.5   \n",
       "19733  43.036000  26.890000  41.290000  24.7  ...  23.2  46.8175   22.3   \n",
       "19734  42.971429  26.823333  41.156667  24.7  ...  23.2  46.8450   22.2   \n",
       "\n",
       "       Press_mm_hg     RH_out  Windspeed  Visibility  Tdewpoint        rv1  \\\n",
       "19730        755.2  55.666667   3.333333   23.666667       13.3  43.096812   \n",
       "19731        755.2  56.000000   3.500000   24.500000       13.3  49.282940   \n",
       "19732        755.2  56.333333   3.666667   25.333333       13.3  29.199117   \n",
       "19733        755.2  56.666667   3.833333   26.166667       13.2   6.322784   \n",
       "19734        755.2  57.000000   4.000000   27.000000       13.2  34.118851   \n",
       "\n",
       "             rv2  \n",
       "19730  43.096812  \n",
       "19731  49.282940  \n",
       "19732  29.199117  \n",
       "19733   6.322784  \n",
       "19734  34.118851  \n",
       "\n",
       "[5 rows x 29 columns]"
      ]
     },
     "execution_count": 4,
     "metadata": {},
     "output_type": "execute_result"
    }
   ],
   "source": [
    "df.tail()"
   ]
  },
  {
   "cell_type": "code",
   "execution_count": 5,
   "metadata": {
    "execution": {
     "iopub.execute_input": "2022-04-08T10:38:14.222311Z",
     "iopub.status.busy": "2022-04-08T10:38:14.222116Z",
     "iopub.status.idle": "2022-04-08T10:38:14.315656Z",
     "shell.execute_reply": "2022-04-08T10:38:14.315079Z",
     "shell.execute_reply.started": "2022-04-08T10:38:14.222290Z"
    }
   },
   "outputs": [
    {
     "data": {
      "text/plain": [
       "(19735, 29)"
      ]
     },
     "execution_count": 5,
     "metadata": {},
     "output_type": "execute_result"
    }
   ],
   "source": [
    "# To check how many rows\n",
    "df.shape"
   ]
  },
  {
   "cell_type": "code",
   "execution_count": 6,
   "metadata": {
    "execution": {
     "iopub.execute_input": "2022-04-08T10:38:14.317878Z",
     "iopub.status.busy": "2022-04-08T10:38:14.317709Z",
     "iopub.status.idle": "2022-04-08T10:38:14.440330Z",
     "shell.execute_reply": "2022-04-08T10:38:14.439615Z",
     "shell.execute_reply.started": "2022-04-08T10:38:14.317858Z"
    }
   },
   "outputs": [
    {
     "data": {
      "text/html": [
       "<div>\n",
       "<style scoped>\n",
       "    .dataframe tbody tr th:only-of-type {\n",
       "        vertical-align: middle;\n",
       "    }\n",
       "\n",
       "    .dataframe tbody tr th {\n",
       "        vertical-align: top;\n",
       "    }\n",
       "\n",
       "    .dataframe thead th {\n",
       "        text-align: right;\n",
       "    }\n",
       "</style>\n",
       "<table border=\"1\" class=\"dataframe\">\n",
       "  <thead>\n",
       "    <tr style=\"text-align: right;\">\n",
       "      <th></th>\n",
       "      <th>appliances</th>\n",
       "      <th>lights</th>\n",
       "      <th>t1</th>\n",
       "      <th>rh_1</th>\n",
       "      <th>t2</th>\n",
       "      <th>rh_2</th>\n",
       "      <th>t3</th>\n",
       "      <th>rh_3</th>\n",
       "      <th>t4</th>\n",
       "      <th>rh_4</th>\n",
       "      <th>...</th>\n",
       "      <th>t9</th>\n",
       "      <th>rh_9</th>\n",
       "      <th>t_out</th>\n",
       "      <th>press_mm_hg</th>\n",
       "      <th>rh_out</th>\n",
       "      <th>windspeed</th>\n",
       "      <th>visibility</th>\n",
       "      <th>tdewpoint</th>\n",
       "      <th>rv1</th>\n",
       "      <th>rv2</th>\n",
       "    </tr>\n",
       "    <tr>\n",
       "      <th>date</th>\n",
       "      <th></th>\n",
       "      <th></th>\n",
       "      <th></th>\n",
       "      <th></th>\n",
       "      <th></th>\n",
       "      <th></th>\n",
       "      <th></th>\n",
       "      <th></th>\n",
       "      <th></th>\n",
       "      <th></th>\n",
       "      <th></th>\n",
       "      <th></th>\n",
       "      <th></th>\n",
       "      <th></th>\n",
       "      <th></th>\n",
       "      <th></th>\n",
       "      <th></th>\n",
       "      <th></th>\n",
       "      <th></th>\n",
       "      <th></th>\n",
       "      <th></th>\n",
       "    </tr>\n",
       "  </thead>\n",
       "  <tbody>\n",
       "    <tr>\n",
       "      <th>11/01/2016 17:00</th>\n",
       "      <td>60</td>\n",
       "      <td>30</td>\n",
       "      <td>19.89</td>\n",
       "      <td>47.596667</td>\n",
       "      <td>19.2</td>\n",
       "      <td>44.790000</td>\n",
       "      <td>19.79</td>\n",
       "      <td>44.730000</td>\n",
       "      <td>19.000000</td>\n",
       "      <td>45.566667</td>\n",
       "      <td>...</td>\n",
       "      <td>17.033333</td>\n",
       "      <td>45.53</td>\n",
       "      <td>6.60</td>\n",
       "      <td>733.5</td>\n",
       "      <td>92.0</td>\n",
       "      <td>7.000000</td>\n",
       "      <td>63.000000</td>\n",
       "      <td>5.3</td>\n",
       "      <td>13.275433</td>\n",
       "      <td>13.275433</td>\n",
       "    </tr>\n",
       "    <tr>\n",
       "      <th>11/01/2016 17:10</th>\n",
       "      <td>60</td>\n",
       "      <td>30</td>\n",
       "      <td>19.89</td>\n",
       "      <td>46.693333</td>\n",
       "      <td>19.2</td>\n",
       "      <td>44.722500</td>\n",
       "      <td>19.79</td>\n",
       "      <td>44.790000</td>\n",
       "      <td>19.000000</td>\n",
       "      <td>45.992500</td>\n",
       "      <td>...</td>\n",
       "      <td>17.066667</td>\n",
       "      <td>45.56</td>\n",
       "      <td>6.48</td>\n",
       "      <td>733.6</td>\n",
       "      <td>92.0</td>\n",
       "      <td>6.666667</td>\n",
       "      <td>59.166667</td>\n",
       "      <td>5.2</td>\n",
       "      <td>18.606195</td>\n",
       "      <td>18.606195</td>\n",
       "    </tr>\n",
       "    <tr>\n",
       "      <th>11/01/2016 17:20</th>\n",
       "      <td>50</td>\n",
       "      <td>30</td>\n",
       "      <td>19.89</td>\n",
       "      <td>46.300000</td>\n",
       "      <td>19.2</td>\n",
       "      <td>44.626667</td>\n",
       "      <td>19.79</td>\n",
       "      <td>44.933333</td>\n",
       "      <td>18.926667</td>\n",
       "      <td>45.890000</td>\n",
       "      <td>...</td>\n",
       "      <td>17.000000</td>\n",
       "      <td>45.50</td>\n",
       "      <td>6.37</td>\n",
       "      <td>733.7</td>\n",
       "      <td>92.0</td>\n",
       "      <td>6.333333</td>\n",
       "      <td>55.333333</td>\n",
       "      <td>5.1</td>\n",
       "      <td>28.642668</td>\n",
       "      <td>28.642668</td>\n",
       "    </tr>\n",
       "    <tr>\n",
       "      <th>11/01/2016 17:30</th>\n",
       "      <td>50</td>\n",
       "      <td>40</td>\n",
       "      <td>19.89</td>\n",
       "      <td>46.066667</td>\n",
       "      <td>19.2</td>\n",
       "      <td>44.590000</td>\n",
       "      <td>19.79</td>\n",
       "      <td>45.000000</td>\n",
       "      <td>18.890000</td>\n",
       "      <td>45.723333</td>\n",
       "      <td>...</td>\n",
       "      <td>17.000000</td>\n",
       "      <td>45.40</td>\n",
       "      <td>6.25</td>\n",
       "      <td>733.8</td>\n",
       "      <td>92.0</td>\n",
       "      <td>6.000000</td>\n",
       "      <td>51.500000</td>\n",
       "      <td>5.0</td>\n",
       "      <td>45.410390</td>\n",
       "      <td>45.410390</td>\n",
       "    </tr>\n",
       "    <tr>\n",
       "      <th>11/01/2016 17:40</th>\n",
       "      <td>60</td>\n",
       "      <td>40</td>\n",
       "      <td>19.89</td>\n",
       "      <td>46.333333</td>\n",
       "      <td>19.2</td>\n",
       "      <td>44.530000</td>\n",
       "      <td>19.79</td>\n",
       "      <td>45.000000</td>\n",
       "      <td>18.890000</td>\n",
       "      <td>45.530000</td>\n",
       "      <td>...</td>\n",
       "      <td>17.000000</td>\n",
       "      <td>45.40</td>\n",
       "      <td>6.13</td>\n",
       "      <td>733.9</td>\n",
       "      <td>92.0</td>\n",
       "      <td>5.666667</td>\n",
       "      <td>47.666667</td>\n",
       "      <td>4.9</td>\n",
       "      <td>10.084097</td>\n",
       "      <td>10.084097</td>\n",
       "    </tr>\n",
       "  </tbody>\n",
       "</table>\n",
       "<p>5 rows × 28 columns</p>\n",
       "</div>"
      ],
      "text/plain": [
       "                  appliances  lights     t1       rh_1    t2       rh_2  \\\n",
       "date                                                                      \n",
       "11/01/2016 17:00          60      30  19.89  47.596667  19.2  44.790000   \n",
       "11/01/2016 17:10          60      30  19.89  46.693333  19.2  44.722500   \n",
       "11/01/2016 17:20          50      30  19.89  46.300000  19.2  44.626667   \n",
       "11/01/2016 17:30          50      40  19.89  46.066667  19.2  44.590000   \n",
       "11/01/2016 17:40          60      40  19.89  46.333333  19.2  44.530000   \n",
       "\n",
       "                     t3       rh_3         t4       rh_4  ...         t9  \\\n",
       "date                                                      ...              \n",
       "11/01/2016 17:00  19.79  44.730000  19.000000  45.566667  ...  17.033333   \n",
       "11/01/2016 17:10  19.79  44.790000  19.000000  45.992500  ...  17.066667   \n",
       "11/01/2016 17:20  19.79  44.933333  18.926667  45.890000  ...  17.000000   \n",
       "11/01/2016 17:30  19.79  45.000000  18.890000  45.723333  ...  17.000000   \n",
       "11/01/2016 17:40  19.79  45.000000  18.890000  45.530000  ...  17.000000   \n",
       "\n",
       "                   rh_9  t_out  press_mm_hg  rh_out  windspeed  visibility  \\\n",
       "date                                                                         \n",
       "11/01/2016 17:00  45.53   6.60        733.5    92.0   7.000000   63.000000   \n",
       "11/01/2016 17:10  45.56   6.48        733.6    92.0   6.666667   59.166667   \n",
       "11/01/2016 17:20  45.50   6.37        733.7    92.0   6.333333   55.333333   \n",
       "11/01/2016 17:30  45.40   6.25        733.8    92.0   6.000000   51.500000   \n",
       "11/01/2016 17:40  45.40   6.13        733.9    92.0   5.666667   47.666667   \n",
       "\n",
       "                  tdewpoint        rv1        rv2  \n",
       "date                                               \n",
       "11/01/2016 17:00        5.3  13.275433  13.275433  \n",
       "11/01/2016 17:10        5.2  18.606195  18.606195  \n",
       "11/01/2016 17:20        5.1  28.642668  28.642668  \n",
       "11/01/2016 17:30        5.0  45.410390  45.410390  \n",
       "11/01/2016 17:40        4.9  10.084097  10.084097  \n",
       "\n",
       "[5 rows x 28 columns]"
      ]
     },
     "execution_count": 6,
     "metadata": {},
     "output_type": "execute_result"
    }
   ],
   "source": [
    "#for time saving and accuracy, we can make all the variable hearders lower case\n",
    "df.columns = [x.lower() for x in df.columns]\n",
    "df = df.set_index(\"date\")\n",
    "df.head()"
   ]
  },
  {
   "cell_type": "markdown",
   "metadata": {},
   "source": [
    "# Data sctructure. checking missing value"
   ]
  },
  {
   "cell_type": "code",
   "execution_count": 7,
   "metadata": {
    "execution": {
     "iopub.execute_input": "2022-04-08T10:38:14.442030Z",
     "iopub.status.busy": "2022-04-08T10:38:14.441472Z",
     "iopub.status.idle": "2022-04-08T10:38:14.527931Z",
     "shell.execute_reply": "2022-04-08T10:38:14.526610Z",
     "shell.execute_reply.started": "2022-04-08T10:38:14.441994Z"
    }
   },
   "outputs": [
    {
     "data": {
      "text/plain": [
       "appliances     0\n",
       "lights         0\n",
       "t1             0\n",
       "rh_1           0\n",
       "t2             0\n",
       "rh_2           0\n",
       "t3             0\n",
       "rh_3           0\n",
       "t4             0\n",
       "rh_4           0\n",
       "t5             0\n",
       "rh_5           0\n",
       "t6             0\n",
       "rh_6           0\n",
       "t7             0\n",
       "rh_7           0\n",
       "t8             0\n",
       "rh_8           0\n",
       "t9             0\n",
       "rh_9           0\n",
       "t_out          0\n",
       "press_mm_hg    0\n",
       "rh_out         0\n",
       "windspeed      0\n",
       "visibility     0\n",
       "tdewpoint      0\n",
       "rv1            0\n",
       "rv2            0\n",
       "dtype: int64"
      ]
     },
     "execution_count": 7,
     "metadata": {},
     "output_type": "execute_result"
    }
   ],
   "source": [
    "# To identify the null value\n",
    "df.isnull().sum()"
   ]
  },
  {
   "cell_type": "markdown",
   "metadata": {},
   "source": [
    "# Evaluating missing data"
   ]
  },
  {
   "cell_type": "markdown",
   "metadata": {},
   "source": [
    "This is to identify and display any missing values. Where True means there is a missing value and False means there is no missing value"
   ]
  },
  {
   "cell_type": "code",
   "execution_count": 8,
   "metadata": {
    "execution": {
     "iopub.execute_input": "2022-04-08T10:38:14.531539Z",
     "iopub.status.busy": "2022-04-08T10:38:14.531282Z",
     "iopub.status.idle": "2022-04-08T10:38:14.644783Z",
     "shell.execute_reply": "2022-04-08T10:38:14.643623Z",
     "shell.execute_reply.started": "2022-04-08T10:38:14.531509Z"
    }
   },
   "outputs": [
    {
     "data": {
      "text/html": [
       "<div>\n",
       "<style scoped>\n",
       "    .dataframe tbody tr th:only-of-type {\n",
       "        vertical-align: middle;\n",
       "    }\n",
       "\n",
       "    .dataframe tbody tr th {\n",
       "        vertical-align: top;\n",
       "    }\n",
       "\n",
       "    .dataframe thead th {\n",
       "        text-align: right;\n",
       "    }\n",
       "</style>\n",
       "<table border=\"1\" class=\"dataframe\">\n",
       "  <thead>\n",
       "    <tr style=\"text-align: right;\">\n",
       "      <th></th>\n",
       "      <th>appliances</th>\n",
       "      <th>lights</th>\n",
       "      <th>t1</th>\n",
       "      <th>rh_1</th>\n",
       "      <th>t2</th>\n",
       "      <th>rh_2</th>\n",
       "      <th>t3</th>\n",
       "      <th>rh_3</th>\n",
       "      <th>t4</th>\n",
       "      <th>rh_4</th>\n",
       "      <th>...</th>\n",
       "      <th>t9</th>\n",
       "      <th>rh_9</th>\n",
       "      <th>t_out</th>\n",
       "      <th>press_mm_hg</th>\n",
       "      <th>rh_out</th>\n",
       "      <th>windspeed</th>\n",
       "      <th>visibility</th>\n",
       "      <th>tdewpoint</th>\n",
       "      <th>rv1</th>\n",
       "      <th>rv2</th>\n",
       "    </tr>\n",
       "    <tr>\n",
       "      <th>date</th>\n",
       "      <th></th>\n",
       "      <th></th>\n",
       "      <th></th>\n",
       "      <th></th>\n",
       "      <th></th>\n",
       "      <th></th>\n",
       "      <th></th>\n",
       "      <th></th>\n",
       "      <th></th>\n",
       "      <th></th>\n",
       "      <th></th>\n",
       "      <th></th>\n",
       "      <th></th>\n",
       "      <th></th>\n",
       "      <th></th>\n",
       "      <th></th>\n",
       "      <th></th>\n",
       "      <th></th>\n",
       "      <th></th>\n",
       "      <th></th>\n",
       "      <th></th>\n",
       "    </tr>\n",
       "  </thead>\n",
       "  <tbody>\n",
       "    <tr>\n",
       "      <th>11/01/2016 17:00</th>\n",
       "      <td>False</td>\n",
       "      <td>False</td>\n",
       "      <td>False</td>\n",
       "      <td>False</td>\n",
       "      <td>False</td>\n",
       "      <td>False</td>\n",
       "      <td>False</td>\n",
       "      <td>False</td>\n",
       "      <td>False</td>\n",
       "      <td>False</td>\n",
       "      <td>...</td>\n",
       "      <td>False</td>\n",
       "      <td>False</td>\n",
       "      <td>False</td>\n",
       "      <td>False</td>\n",
       "      <td>False</td>\n",
       "      <td>False</td>\n",
       "      <td>False</td>\n",
       "      <td>False</td>\n",
       "      <td>False</td>\n",
       "      <td>False</td>\n",
       "    </tr>\n",
       "    <tr>\n",
       "      <th>11/01/2016 17:10</th>\n",
       "      <td>False</td>\n",
       "      <td>False</td>\n",
       "      <td>False</td>\n",
       "      <td>False</td>\n",
       "      <td>False</td>\n",
       "      <td>False</td>\n",
       "      <td>False</td>\n",
       "      <td>False</td>\n",
       "      <td>False</td>\n",
       "      <td>False</td>\n",
       "      <td>...</td>\n",
       "      <td>False</td>\n",
       "      <td>False</td>\n",
       "      <td>False</td>\n",
       "      <td>False</td>\n",
       "      <td>False</td>\n",
       "      <td>False</td>\n",
       "      <td>False</td>\n",
       "      <td>False</td>\n",
       "      <td>False</td>\n",
       "      <td>False</td>\n",
       "    </tr>\n",
       "    <tr>\n",
       "      <th>11/01/2016 17:20</th>\n",
       "      <td>False</td>\n",
       "      <td>False</td>\n",
       "      <td>False</td>\n",
       "      <td>False</td>\n",
       "      <td>False</td>\n",
       "      <td>False</td>\n",
       "      <td>False</td>\n",
       "      <td>False</td>\n",
       "      <td>False</td>\n",
       "      <td>False</td>\n",
       "      <td>...</td>\n",
       "      <td>False</td>\n",
       "      <td>False</td>\n",
       "      <td>False</td>\n",
       "      <td>False</td>\n",
       "      <td>False</td>\n",
       "      <td>False</td>\n",
       "      <td>False</td>\n",
       "      <td>False</td>\n",
       "      <td>False</td>\n",
       "      <td>False</td>\n",
       "    </tr>\n",
       "    <tr>\n",
       "      <th>11/01/2016 17:30</th>\n",
       "      <td>False</td>\n",
       "      <td>False</td>\n",
       "      <td>False</td>\n",
       "      <td>False</td>\n",
       "      <td>False</td>\n",
       "      <td>False</td>\n",
       "      <td>False</td>\n",
       "      <td>False</td>\n",
       "      <td>False</td>\n",
       "      <td>False</td>\n",
       "      <td>...</td>\n",
       "      <td>False</td>\n",
       "      <td>False</td>\n",
       "      <td>False</td>\n",
       "      <td>False</td>\n",
       "      <td>False</td>\n",
       "      <td>False</td>\n",
       "      <td>False</td>\n",
       "      <td>False</td>\n",
       "      <td>False</td>\n",
       "      <td>False</td>\n",
       "    </tr>\n",
       "    <tr>\n",
       "      <th>11/01/2016 17:40</th>\n",
       "      <td>False</td>\n",
       "      <td>False</td>\n",
       "      <td>False</td>\n",
       "      <td>False</td>\n",
       "      <td>False</td>\n",
       "      <td>False</td>\n",
       "      <td>False</td>\n",
       "      <td>False</td>\n",
       "      <td>False</td>\n",
       "      <td>False</td>\n",
       "      <td>...</td>\n",
       "      <td>False</td>\n",
       "      <td>False</td>\n",
       "      <td>False</td>\n",
       "      <td>False</td>\n",
       "      <td>False</td>\n",
       "      <td>False</td>\n",
       "      <td>False</td>\n",
       "      <td>False</td>\n",
       "      <td>False</td>\n",
       "      <td>False</td>\n",
       "    </tr>\n",
       "  </tbody>\n",
       "</table>\n",
       "<p>5 rows × 28 columns</p>\n",
       "</div>"
      ],
      "text/plain": [
       "                  appliances  lights     t1   rh_1     t2   rh_2     t3  \\\n",
       "date                                                                      \n",
       "11/01/2016 17:00       False   False  False  False  False  False  False   \n",
       "11/01/2016 17:10       False   False  False  False  False  False  False   \n",
       "11/01/2016 17:20       False   False  False  False  False  False  False   \n",
       "11/01/2016 17:30       False   False  False  False  False  False  False   \n",
       "11/01/2016 17:40       False   False  False  False  False  False  False   \n",
       "\n",
       "                   rh_3     t4   rh_4  ...     t9   rh_9  t_out  press_mm_hg  \\\n",
       "date                                   ...                                     \n",
       "11/01/2016 17:00  False  False  False  ...  False  False  False        False   \n",
       "11/01/2016 17:10  False  False  False  ...  False  False  False        False   \n",
       "11/01/2016 17:20  False  False  False  ...  False  False  False        False   \n",
       "11/01/2016 17:30  False  False  False  ...  False  False  False        False   \n",
       "11/01/2016 17:40  False  False  False  ...  False  False  False        False   \n",
       "\n",
       "                  rh_out  windspeed  visibility  tdewpoint    rv1    rv2  \n",
       "date                                                                      \n",
       "11/01/2016 17:00   False      False       False      False  False  False  \n",
       "11/01/2016 17:10   False      False       False      False  False  False  \n",
       "11/01/2016 17:20   False      False       False      False  False  False  \n",
       "11/01/2016 17:30   False      False       False      False  False  False  \n",
       "11/01/2016 17:40   False      False       False      False  False  False  \n",
       "\n",
       "[5 rows x 28 columns]"
      ]
     },
     "execution_count": 8,
     "metadata": {},
     "output_type": "execute_result"
    }
   ],
   "source": [
    "missing_data = df.isnull()\n",
    "missing_data.head()"
   ]
  },
  {
   "cell_type": "code",
   "execution_count": 9,
   "metadata": {
    "execution": {
     "iopub.execute_input": "2022-04-08T10:38:14.647819Z",
     "iopub.status.busy": "2022-04-08T10:38:14.647517Z",
     "iopub.status.idle": "2022-04-08T10:38:14.738676Z",
     "shell.execute_reply": "2022-04-08T10:38:14.737984Z",
     "shell.execute_reply.started": "2022-04-08T10:38:14.647754Z"
    }
   },
   "outputs": [
    {
     "data": {
      "text/plain": [
       "0"
      ]
     },
     "execution_count": 9,
     "metadata": {},
     "output_type": "execute_result"
    }
   ],
   "source": [
    "# To further confirm any missing value\n",
    "df.isnull().sum().sum()"
   ]
  },
  {
   "cell_type": "markdown",
   "metadata": {},
   "source": [
    "The dataset is now loaded into the variable dataset. I'll just take a glimpse of the data using the desribe() and info() methods before I actually start processing and visualizing it."
   ]
  },
  {
   "cell_type": "code",
   "execution_count": 10,
   "metadata": {
    "execution": {
     "iopub.execute_input": "2022-04-08T10:38:14.740317Z",
     "iopub.status.busy": "2022-04-08T10:38:14.739847Z",
     "iopub.status.idle": "2022-04-08T10:38:14.856440Z",
     "shell.execute_reply": "2022-04-08T10:38:14.855695Z",
     "shell.execute_reply.started": "2022-04-08T10:38:14.740264Z"
    }
   },
   "outputs": [
    {
     "name": "stdout",
     "output_type": "stream",
     "text": [
      "<class 'pandas.core.frame.DataFrame'>\n",
      "Index: 19735 entries, 11/01/2016 17:00 to 27/05/2016 18:00\n",
      "Data columns (total 28 columns):\n",
      " #   Column       Non-Null Count  Dtype  \n",
      "---  ------       --------------  -----  \n",
      " 0   appliances   19735 non-null  int64  \n",
      " 1   lights       19735 non-null  int64  \n",
      " 2   t1           19735 non-null  float64\n",
      " 3   rh_1         19735 non-null  float64\n",
      " 4   t2           19735 non-null  float64\n",
      " 5   rh_2         19735 non-null  float64\n",
      " 6   t3           19735 non-null  float64\n",
      " 7   rh_3         19735 non-null  float64\n",
      " 8   t4           19735 non-null  float64\n",
      " 9   rh_4         19735 non-null  float64\n",
      " 10  t5           19735 non-null  float64\n",
      " 11  rh_5         19735 non-null  float64\n",
      " 12  t6           19735 non-null  float64\n",
      " 13  rh_6         19735 non-null  float64\n",
      " 14  t7           19735 non-null  float64\n",
      " 15  rh_7         19735 non-null  float64\n",
      " 16  t8           19735 non-null  float64\n",
      " 17  rh_8         19735 non-null  float64\n",
      " 18  t9           19735 non-null  float64\n",
      " 19  rh_9         19735 non-null  float64\n",
      " 20  t_out        19735 non-null  float64\n",
      " 21  press_mm_hg  19735 non-null  float64\n",
      " 22  rh_out       19735 non-null  float64\n",
      " 23  windspeed    19735 non-null  float64\n",
      " 24  visibility   19735 non-null  float64\n",
      " 25  tdewpoint    19735 non-null  float64\n",
      " 26  rv1          19735 non-null  float64\n",
      " 27  rv2          19735 non-null  float64\n",
      "dtypes: float64(26), int64(2)\n",
      "memory usage: 4.4+ MB\n"
     ]
    }
   ],
   "source": [
    "df.info()"
   ]
  },
  {
   "cell_type": "code",
   "execution_count": 11,
   "metadata": {
    "execution": {
     "iopub.execute_input": "2022-04-08T10:38:14.857899Z",
     "iopub.status.busy": "2022-04-08T10:38:14.857632Z",
     "iopub.status.idle": "2022-04-08T10:38:15.140826Z",
     "shell.execute_reply": "2022-04-08T10:38:15.140119Z",
     "shell.execute_reply.started": "2022-04-08T10:38:14.857865Z"
    }
   },
   "outputs": [
    {
     "data": {
      "text/html": [
       "<div>\n",
       "<style scoped>\n",
       "    .dataframe tbody tr th:only-of-type {\n",
       "        vertical-align: middle;\n",
       "    }\n",
       "\n",
       "    .dataframe tbody tr th {\n",
       "        vertical-align: top;\n",
       "    }\n",
       "\n",
       "    .dataframe thead th {\n",
       "        text-align: right;\n",
       "    }\n",
       "</style>\n",
       "<table border=\"1\" class=\"dataframe\">\n",
       "  <thead>\n",
       "    <tr style=\"text-align: right;\">\n",
       "      <th></th>\n",
       "      <th>appliances</th>\n",
       "      <th>lights</th>\n",
       "      <th>t1</th>\n",
       "      <th>rh_1</th>\n",
       "      <th>t2</th>\n",
       "      <th>rh_2</th>\n",
       "      <th>t3</th>\n",
       "      <th>rh_3</th>\n",
       "      <th>t4</th>\n",
       "      <th>rh_4</th>\n",
       "      <th>...</th>\n",
       "      <th>t9</th>\n",
       "      <th>rh_9</th>\n",
       "      <th>t_out</th>\n",
       "      <th>press_mm_hg</th>\n",
       "      <th>rh_out</th>\n",
       "      <th>windspeed</th>\n",
       "      <th>visibility</th>\n",
       "      <th>tdewpoint</th>\n",
       "      <th>rv1</th>\n",
       "      <th>rv2</th>\n",
       "    </tr>\n",
       "  </thead>\n",
       "  <tbody>\n",
       "    <tr>\n",
       "      <th>count</th>\n",
       "      <td>19735.000000</td>\n",
       "      <td>19735.000000</td>\n",
       "      <td>19735.000000</td>\n",
       "      <td>19735.000000</td>\n",
       "      <td>19735.000000</td>\n",
       "      <td>19735.000000</td>\n",
       "      <td>19735.000000</td>\n",
       "      <td>19735.000000</td>\n",
       "      <td>19735.000000</td>\n",
       "      <td>19735.000000</td>\n",
       "      <td>...</td>\n",
       "      <td>19735.000000</td>\n",
       "      <td>19735.000000</td>\n",
       "      <td>19735.000000</td>\n",
       "      <td>19735.000000</td>\n",
       "      <td>19735.000000</td>\n",
       "      <td>19735.000000</td>\n",
       "      <td>19735.000000</td>\n",
       "      <td>19735.000000</td>\n",
       "      <td>19735.000000</td>\n",
       "      <td>19735.000000</td>\n",
       "    </tr>\n",
       "    <tr>\n",
       "      <th>mean</th>\n",
       "      <td>97.694958</td>\n",
       "      <td>3.801875</td>\n",
       "      <td>21.686571</td>\n",
       "      <td>40.259739</td>\n",
       "      <td>20.341219</td>\n",
       "      <td>40.420420</td>\n",
       "      <td>22.267611</td>\n",
       "      <td>39.242500</td>\n",
       "      <td>20.855335</td>\n",
       "      <td>39.026904</td>\n",
       "      <td>...</td>\n",
       "      <td>19.485828</td>\n",
       "      <td>41.552401</td>\n",
       "      <td>7.412580</td>\n",
       "      <td>755.522602</td>\n",
       "      <td>79.750418</td>\n",
       "      <td>4.039752</td>\n",
       "      <td>38.330834</td>\n",
       "      <td>3.760995</td>\n",
       "      <td>24.988033</td>\n",
       "      <td>24.988033</td>\n",
       "    </tr>\n",
       "    <tr>\n",
       "      <th>std</th>\n",
       "      <td>102.524891</td>\n",
       "      <td>7.935988</td>\n",
       "      <td>1.606066</td>\n",
       "      <td>3.979299</td>\n",
       "      <td>2.192974</td>\n",
       "      <td>4.069813</td>\n",
       "      <td>2.006111</td>\n",
       "      <td>3.254576</td>\n",
       "      <td>2.042884</td>\n",
       "      <td>4.341321</td>\n",
       "      <td>...</td>\n",
       "      <td>2.014712</td>\n",
       "      <td>4.151497</td>\n",
       "      <td>5.318464</td>\n",
       "      <td>7.399441</td>\n",
       "      <td>14.901088</td>\n",
       "      <td>2.451221</td>\n",
       "      <td>11.794719</td>\n",
       "      <td>4.195248</td>\n",
       "      <td>14.496634</td>\n",
       "      <td>14.496634</td>\n",
       "    </tr>\n",
       "    <tr>\n",
       "      <th>min</th>\n",
       "      <td>10.000000</td>\n",
       "      <td>0.000000</td>\n",
       "      <td>16.790000</td>\n",
       "      <td>27.023333</td>\n",
       "      <td>16.100000</td>\n",
       "      <td>20.463333</td>\n",
       "      <td>17.200000</td>\n",
       "      <td>28.766667</td>\n",
       "      <td>15.100000</td>\n",
       "      <td>27.660000</td>\n",
       "      <td>...</td>\n",
       "      <td>14.890000</td>\n",
       "      <td>29.166667</td>\n",
       "      <td>-5.000000</td>\n",
       "      <td>729.300000</td>\n",
       "      <td>24.000000</td>\n",
       "      <td>0.000000</td>\n",
       "      <td>1.000000</td>\n",
       "      <td>-6.600000</td>\n",
       "      <td>0.005322</td>\n",
       "      <td>0.005322</td>\n",
       "    </tr>\n",
       "    <tr>\n",
       "      <th>25%</th>\n",
       "      <td>50.000000</td>\n",
       "      <td>0.000000</td>\n",
       "      <td>20.760000</td>\n",
       "      <td>37.333333</td>\n",
       "      <td>18.790000</td>\n",
       "      <td>37.900000</td>\n",
       "      <td>20.790000</td>\n",
       "      <td>36.900000</td>\n",
       "      <td>19.530000</td>\n",
       "      <td>35.530000</td>\n",
       "      <td>...</td>\n",
       "      <td>18.000000</td>\n",
       "      <td>38.500000</td>\n",
       "      <td>3.670000</td>\n",
       "      <td>750.933333</td>\n",
       "      <td>70.333333</td>\n",
       "      <td>2.000000</td>\n",
       "      <td>29.000000</td>\n",
       "      <td>0.900000</td>\n",
       "      <td>12.497889</td>\n",
       "      <td>12.497889</td>\n",
       "    </tr>\n",
       "    <tr>\n",
       "      <th>50%</th>\n",
       "      <td>60.000000</td>\n",
       "      <td>0.000000</td>\n",
       "      <td>21.600000</td>\n",
       "      <td>39.656667</td>\n",
       "      <td>20.000000</td>\n",
       "      <td>40.500000</td>\n",
       "      <td>22.100000</td>\n",
       "      <td>38.530000</td>\n",
       "      <td>20.666667</td>\n",
       "      <td>38.400000</td>\n",
       "      <td>...</td>\n",
       "      <td>19.390000</td>\n",
       "      <td>40.900000</td>\n",
       "      <td>6.920000</td>\n",
       "      <td>756.100000</td>\n",
       "      <td>83.666667</td>\n",
       "      <td>3.666667</td>\n",
       "      <td>40.000000</td>\n",
       "      <td>3.430000</td>\n",
       "      <td>24.897653</td>\n",
       "      <td>24.897653</td>\n",
       "    </tr>\n",
       "    <tr>\n",
       "      <th>75%</th>\n",
       "      <td>100.000000</td>\n",
       "      <td>0.000000</td>\n",
       "      <td>22.600000</td>\n",
       "      <td>43.066667</td>\n",
       "      <td>21.500000</td>\n",
       "      <td>43.260000</td>\n",
       "      <td>23.290000</td>\n",
       "      <td>41.760000</td>\n",
       "      <td>22.100000</td>\n",
       "      <td>42.156667</td>\n",
       "      <td>...</td>\n",
       "      <td>20.600000</td>\n",
       "      <td>44.338095</td>\n",
       "      <td>10.400000</td>\n",
       "      <td>760.933333</td>\n",
       "      <td>91.666667</td>\n",
       "      <td>5.500000</td>\n",
       "      <td>40.000000</td>\n",
       "      <td>6.570000</td>\n",
       "      <td>37.583769</td>\n",
       "      <td>37.583769</td>\n",
       "    </tr>\n",
       "    <tr>\n",
       "      <th>max</th>\n",
       "      <td>1080.000000</td>\n",
       "      <td>70.000000</td>\n",
       "      <td>26.260000</td>\n",
       "      <td>63.360000</td>\n",
       "      <td>29.856667</td>\n",
       "      <td>56.026667</td>\n",
       "      <td>29.236000</td>\n",
       "      <td>50.163333</td>\n",
       "      <td>26.200000</td>\n",
       "      <td>51.090000</td>\n",
       "      <td>...</td>\n",
       "      <td>24.500000</td>\n",
       "      <td>53.326667</td>\n",
       "      <td>26.100000</td>\n",
       "      <td>772.300000</td>\n",
       "      <td>100.000000</td>\n",
       "      <td>14.000000</td>\n",
       "      <td>66.000000</td>\n",
       "      <td>15.500000</td>\n",
       "      <td>49.996530</td>\n",
       "      <td>49.996530</td>\n",
       "    </tr>\n",
       "  </tbody>\n",
       "</table>\n",
       "<p>8 rows × 28 columns</p>\n",
       "</div>"
      ],
      "text/plain": [
       "         appliances        lights            t1          rh_1            t2  \\\n",
       "count  19735.000000  19735.000000  19735.000000  19735.000000  19735.000000   \n",
       "mean      97.694958      3.801875     21.686571     40.259739     20.341219   \n",
       "std      102.524891      7.935988      1.606066      3.979299      2.192974   \n",
       "min       10.000000      0.000000     16.790000     27.023333     16.100000   \n",
       "25%       50.000000      0.000000     20.760000     37.333333     18.790000   \n",
       "50%       60.000000      0.000000     21.600000     39.656667     20.000000   \n",
       "75%      100.000000      0.000000     22.600000     43.066667     21.500000   \n",
       "max     1080.000000     70.000000     26.260000     63.360000     29.856667   \n",
       "\n",
       "               rh_2            t3          rh_3            t4          rh_4  \\\n",
       "count  19735.000000  19735.000000  19735.000000  19735.000000  19735.000000   \n",
       "mean      40.420420     22.267611     39.242500     20.855335     39.026904   \n",
       "std        4.069813      2.006111      3.254576      2.042884      4.341321   \n",
       "min       20.463333     17.200000     28.766667     15.100000     27.660000   \n",
       "25%       37.900000     20.790000     36.900000     19.530000     35.530000   \n",
       "50%       40.500000     22.100000     38.530000     20.666667     38.400000   \n",
       "75%       43.260000     23.290000     41.760000     22.100000     42.156667   \n",
       "max       56.026667     29.236000     50.163333     26.200000     51.090000   \n",
       "\n",
       "       ...            t9          rh_9         t_out   press_mm_hg  \\\n",
       "count  ...  19735.000000  19735.000000  19735.000000  19735.000000   \n",
       "mean   ...     19.485828     41.552401      7.412580    755.522602   \n",
       "std    ...      2.014712      4.151497      5.318464      7.399441   \n",
       "min    ...     14.890000     29.166667     -5.000000    729.300000   \n",
       "25%    ...     18.000000     38.500000      3.670000    750.933333   \n",
       "50%    ...     19.390000     40.900000      6.920000    756.100000   \n",
       "75%    ...     20.600000     44.338095     10.400000    760.933333   \n",
       "max    ...     24.500000     53.326667     26.100000    772.300000   \n",
       "\n",
       "             rh_out     windspeed    visibility     tdewpoint           rv1  \\\n",
       "count  19735.000000  19735.000000  19735.000000  19735.000000  19735.000000   \n",
       "mean      79.750418      4.039752     38.330834      3.760995     24.988033   \n",
       "std       14.901088      2.451221     11.794719      4.195248     14.496634   \n",
       "min       24.000000      0.000000      1.000000     -6.600000      0.005322   \n",
       "25%       70.333333      2.000000     29.000000      0.900000     12.497889   \n",
       "50%       83.666667      3.666667     40.000000      3.430000     24.897653   \n",
       "75%       91.666667      5.500000     40.000000      6.570000     37.583769   \n",
       "max      100.000000     14.000000     66.000000     15.500000     49.996530   \n",
       "\n",
       "                rv2  \n",
       "count  19735.000000  \n",
       "mean      24.988033  \n",
       "std       14.496634  \n",
       "min        0.005322  \n",
       "25%       12.497889  \n",
       "50%       24.897653  \n",
       "75%       37.583769  \n",
       "max       49.996530  \n",
       "\n",
       "[8 rows x 28 columns]"
      ]
     },
     "execution_count": 11,
     "metadata": {},
     "output_type": "execute_result"
    }
   ],
   "source": [
    "df.describe()"
   ]
  },
  {
   "cell_type": "markdown",
   "metadata": {},
   "source": [
    "# Descriptive statistics"
   ]
  },
  {
   "cell_type": "code",
   "execution_count": 12,
   "metadata": {
    "execution": {
     "iopub.execute_input": "2022-04-08T10:38:15.142381Z",
     "iopub.status.busy": "2022-04-08T10:38:15.141950Z",
     "iopub.status.idle": "2022-04-08T10:38:22.721931Z",
     "shell.execute_reply": "2022-04-08T10:38:22.721335Z",
     "shell.execute_reply.started": "2022-04-08T10:38:15.142346Z"
    }
   },
   "outputs": [
    {
     "data": {
      "image/png": "[encoded data removed]",
      "text/plain": [
       "<Figure size 1500x1500 with 30 Axes>"
      ]
     },
     "metadata": {},
     "output_type": "display_data"
    }
   ],
   "source": [
    "#To check the numerical distribution of differnt variables \n",
    "%matplotlib inline\n",
    "import matplotlib.pyplot as plt\n",
    "df.hist(bins=50, figsize=(15, 15))\n",
    "plt.savefig('attribute_histogram_plots')\n",
    "plt.show()"
   ]
  },
  {
   "cell_type": "markdown",
   "metadata": {},
   "source": [
    "# Finding correlation in our data"
   ]
  },
  {
   "cell_type": "code",
   "execution_count": 13,
   "metadata": {
    "execution": {
     "iopub.execute_input": "2022-04-08T10:38:22.722984Z",
     "iopub.status.busy": "2022-04-08T10:38:22.722786Z",
     "iopub.status.idle": "2022-04-08T10:38:22.806805Z",
     "shell.execute_reply": "2022-04-08T10:38:22.806049Z",
     "shell.execute_reply.started": "2022-04-08T10:38:22.722960Z"
    }
   },
   "outputs": [
    {
     "data": {
      "text/html": [
       "<div>\n",
       "<style scoped>\n",
       "    .dataframe tbody tr th:only-of-type {\n",
       "        vertical-align: middle;\n",
       "    }\n",
       "\n",
       "    .dataframe tbody tr th {\n",
       "        vertical-align: top;\n",
       "    }\n",
       "\n",
       "    .dataframe thead th {\n",
       "        text-align: right;\n",
       "    }\n",
       "</style>\n",
       "<table border=\"1\" class=\"dataframe\">\n",
       "  <thead>\n",
       "    <tr style=\"text-align: right;\">\n",
       "      <th></th>\n",
       "      <th>appliances</th>\n",
       "      <th>lights</th>\n",
       "      <th>t1</th>\n",
       "      <th>rh_1</th>\n",
       "      <th>t2</th>\n",
       "      <th>rh_2</th>\n",
       "      <th>t3</th>\n",
       "      <th>rh_3</th>\n",
       "      <th>t4</th>\n",
       "      <th>rh_4</th>\n",
       "      <th>...</th>\n",
       "      <th>t9</th>\n",
       "      <th>rh_9</th>\n",
       "      <th>t_out</th>\n",
       "      <th>press_mm_hg</th>\n",
       "      <th>rh_out</th>\n",
       "      <th>windspeed</th>\n",
       "      <th>visibility</th>\n",
       "      <th>tdewpoint</th>\n",
       "      <th>rv1</th>\n",
       "      <th>rv2</th>\n",
       "    </tr>\n",
       "  </thead>\n",
       "  <tbody>\n",
       "    <tr>\n",
       "      <th>appliances</th>\n",
       "      <td>1.000000</td>\n",
       "      <td>0.197278</td>\n",
       "      <td>0.055447</td>\n",
       "      <td>0.086031</td>\n",
       "      <td>0.120073</td>\n",
       "      <td>-0.060465</td>\n",
       "      <td>0.085060</td>\n",
       "      <td>0.036292</td>\n",
       "      <td>0.040281</td>\n",
       "      <td>0.016965</td>\n",
       "      <td>...</td>\n",
       "      <td>0.010010</td>\n",
       "      <td>-0.051462</td>\n",
       "      <td>0.099155</td>\n",
       "      <td>-0.034885</td>\n",
       "      <td>-0.152282</td>\n",
       "      <td>0.087122</td>\n",
       "      <td>0.000230</td>\n",
       "      <td>0.015357</td>\n",
       "      <td>-0.011145</td>\n",
       "      <td>-0.011145</td>\n",
       "    </tr>\n",
       "    <tr>\n",
       "      <th>lights</th>\n",
       "      <td>0.197278</td>\n",
       "      <td>1.000000</td>\n",
       "      <td>-0.023528</td>\n",
       "      <td>0.106968</td>\n",
       "      <td>-0.005622</td>\n",
       "      <td>0.050985</td>\n",
       "      <td>-0.097393</td>\n",
       "      <td>0.131161</td>\n",
       "      <td>-0.008859</td>\n",
       "      <td>0.114936</td>\n",
       "      <td>...</td>\n",
       "      <td>-0.157592</td>\n",
       "      <td>-0.008766</td>\n",
       "      <td>-0.074423</td>\n",
       "      <td>-0.010576</td>\n",
       "      <td>0.068543</td>\n",
       "      <td>0.060281</td>\n",
       "      <td>0.020038</td>\n",
       "      <td>-0.036331</td>\n",
       "      <td>0.000521</td>\n",
       "      <td>0.000521</td>\n",
       "    </tr>\n",
       "    <tr>\n",
       "      <th>t1</th>\n",
       "      <td>0.055447</td>\n",
       "      <td>-0.023528</td>\n",
       "      <td>1.000000</td>\n",
       "      <td>0.164006</td>\n",
       "      <td>0.836834</td>\n",
       "      <td>-0.002509</td>\n",
       "      <td>0.892402</td>\n",
       "      <td>-0.028550</td>\n",
       "      <td>0.877001</td>\n",
       "      <td>0.097861</td>\n",
       "      <td>...</td>\n",
       "      <td>0.844777</td>\n",
       "      <td>0.071756</td>\n",
       "      <td>0.682854</td>\n",
       "      <td>-0.150574</td>\n",
       "      <td>-0.345481</td>\n",
       "      <td>-0.087654</td>\n",
       "      <td>-0.076210</td>\n",
       "      <td>0.571333</td>\n",
       "      <td>-0.006203</td>\n",
       "      <td>-0.006203</td>\n",
       "    </tr>\n",
       "    <tr>\n",
       "      <th>rh_1</th>\n",
       "      <td>0.086031</td>\n",
       "      <td>0.106968</td>\n",
       "      <td>0.164006</td>\n",
       "      <td>1.000000</td>\n",
       "      <td>0.269839</td>\n",
       "      <td>0.797535</td>\n",
       "      <td>0.253230</td>\n",
       "      <td>0.844677</td>\n",
       "      <td>0.106180</td>\n",
       "      <td>0.880359</td>\n",
       "      <td>...</td>\n",
       "      <td>0.115263</td>\n",
       "      <td>0.764001</td>\n",
       "      <td>0.340788</td>\n",
       "      <td>-0.293957</td>\n",
       "      <td>0.274126</td>\n",
       "      <td>0.204932</td>\n",
       "      <td>-0.021057</td>\n",
       "      <td>0.639125</td>\n",
       "      <td>-0.000699</td>\n",
       "      <td>-0.000699</td>\n",
       "    </tr>\n",
       "    <tr>\n",
       "      <th>t2</th>\n",
       "      <td>0.120073</td>\n",
       "      <td>-0.005622</td>\n",
       "      <td>0.836834</td>\n",
       "      <td>0.269839</td>\n",
       "      <td>1.000000</td>\n",
       "      <td>-0.165610</td>\n",
       "      <td>0.735245</td>\n",
       "      <td>0.121497</td>\n",
       "      <td>0.762066</td>\n",
       "      <td>0.231563</td>\n",
       "      <td>...</td>\n",
       "      <td>0.675535</td>\n",
       "      <td>0.157346</td>\n",
       "      <td>0.792247</td>\n",
       "      <td>-0.133028</td>\n",
       "      <td>-0.505291</td>\n",
       "      <td>0.052495</td>\n",
       "      <td>-0.069721</td>\n",
       "      <td>0.582632</td>\n",
       "      <td>-0.011087</td>\n",
       "      <td>-0.011087</td>\n",
       "    </tr>\n",
       "    <tr>\n",
       "      <th>rh_2</th>\n",
       "      <td>-0.060465</td>\n",
       "      <td>0.050985</td>\n",
       "      <td>-0.002509</td>\n",
       "      <td>0.797535</td>\n",
       "      <td>-0.165610</td>\n",
       "      <td>1.000000</td>\n",
       "      <td>0.137319</td>\n",
       "      <td>0.678326</td>\n",
       "      <td>-0.047304</td>\n",
       "      <td>0.721435</td>\n",
       "      <td>...</td>\n",
       "      <td>0.054544</td>\n",
       "      <td>0.676467</td>\n",
       "      <td>0.033703</td>\n",
       "      <td>-0.255646</td>\n",
       "      <td>0.584911</td>\n",
       "      <td>0.069190</td>\n",
       "      <td>-0.005368</td>\n",
       "      <td>0.499154</td>\n",
       "      <td>0.006275</td>\n",
       "      <td>0.006275</td>\n",
       "    </tr>\n",
       "    <tr>\n",
       "      <th>t3</th>\n",
       "      <td>0.085060</td>\n",
       "      <td>-0.097393</td>\n",
       "      <td>0.892402</td>\n",
       "      <td>0.253230</td>\n",
       "      <td>0.735245</td>\n",
       "      <td>0.137319</td>\n",
       "      <td>1.000000</td>\n",
       "      <td>-0.011234</td>\n",
       "      <td>0.852778</td>\n",
       "      <td>0.122737</td>\n",
       "      <td>...</td>\n",
       "      <td>0.901324</td>\n",
       "      <td>0.134602</td>\n",
       "      <td>0.699420</td>\n",
       "      <td>-0.189974</td>\n",
       "      <td>-0.281718</td>\n",
       "      <td>-0.100776</td>\n",
       "      <td>-0.102310</td>\n",
       "      <td>0.645909</td>\n",
       "      <td>-0.005194</td>\n",
       "      <td>-0.005194</td>\n",
       "    </tr>\n",
       "    <tr>\n",
       "      <th>rh_3</th>\n",
       "      <td>0.036292</td>\n",
       "      <td>0.131161</td>\n",
       "      <td>-0.028550</td>\n",
       "      <td>0.844677</td>\n",
       "      <td>0.121497</td>\n",
       "      <td>0.678326</td>\n",
       "      <td>-0.011234</td>\n",
       "      <td>1.000000</td>\n",
       "      <td>-0.140457</td>\n",
       "      <td>0.898978</td>\n",
       "      <td>...</td>\n",
       "      <td>-0.195270</td>\n",
       "      <td>0.833538</td>\n",
       "      <td>0.118237</td>\n",
       "      <td>-0.233274</td>\n",
       "      <td>0.356192</td>\n",
       "      <td>0.263188</td>\n",
       "      <td>0.017041</td>\n",
       "      <td>0.414398</td>\n",
       "      <td>-0.000477</td>\n",
       "      <td>-0.000477</td>\n",
       "    </tr>\n",
       "    <tr>\n",
       "      <th>t4</th>\n",
       "      <td>0.040281</td>\n",
       "      <td>-0.008859</td>\n",
       "      <td>0.877001</td>\n",
       "      <td>0.106180</td>\n",
       "      <td>0.762066</td>\n",
       "      <td>-0.047304</td>\n",
       "      <td>0.852778</td>\n",
       "      <td>-0.140457</td>\n",
       "      <td>1.000000</td>\n",
       "      <td>-0.048650</td>\n",
       "      <td>...</td>\n",
       "      <td>0.889439</td>\n",
       "      <td>-0.025549</td>\n",
       "      <td>0.663479</td>\n",
       "      <td>-0.075292</td>\n",
       "      <td>-0.388602</td>\n",
       "      <td>-0.185747</td>\n",
       "      <td>-0.104768</td>\n",
       "      <td>0.519504</td>\n",
       "      <td>-0.001815</td>\n",
       "      <td>-0.001815</td>\n",
       "    </tr>\n",
       "    <tr>\n",
       "      <th>rh_4</th>\n",
       "      <td>0.016965</td>\n",
       "      <td>0.114936</td>\n",
       "      <td>0.097861</td>\n",
       "      <td>0.880359</td>\n",
       "      <td>0.231563</td>\n",
       "      <td>0.721435</td>\n",
       "      <td>0.122737</td>\n",
       "      <td>0.898978</td>\n",
       "      <td>-0.048650</td>\n",
       "      <td>1.000000</td>\n",
       "      <td>...</td>\n",
       "      <td>-0.044518</td>\n",
       "      <td>0.856591</td>\n",
       "      <td>0.293307</td>\n",
       "      <td>-0.250748</td>\n",
       "      <td>0.336813</td>\n",
       "      <td>0.300192</td>\n",
       "      <td>0.002636</td>\n",
       "      <td>0.616508</td>\n",
       "      <td>-0.001787</td>\n",
       "      <td>-0.001787</td>\n",
       "    </tr>\n",
       "    <tr>\n",
       "      <th>t5</th>\n",
       "      <td>0.019760</td>\n",
       "      <td>-0.078745</td>\n",
       "      <td>0.885247</td>\n",
       "      <td>0.205797</td>\n",
       "      <td>0.720550</td>\n",
       "      <td>0.110409</td>\n",
       "      <td>0.888169</td>\n",
       "      <td>-0.050062</td>\n",
       "      <td>0.871813</td>\n",
       "      <td>0.091812</td>\n",
       "      <td>...</td>\n",
       "      <td>0.911055</td>\n",
       "      <td>0.072308</td>\n",
       "      <td>0.651335</td>\n",
       "      <td>-0.170999</td>\n",
       "      <td>-0.273953</td>\n",
       "      <td>-0.145011</td>\n",
       "      <td>-0.084164</td>\n",
       "      <td>0.588393</td>\n",
       "      <td>-0.005490</td>\n",
       "      <td>-0.005490</td>\n",
       "    </tr>\n",
       "    <tr>\n",
       "      <th>rh_5</th>\n",
       "      <td>0.006955</td>\n",
       "      <td>0.141233</td>\n",
       "      <td>-0.014782</td>\n",
       "      <td>0.303258</td>\n",
       "      <td>0.029595</td>\n",
       "      <td>0.250271</td>\n",
       "      <td>-0.066355</td>\n",
       "      <td>0.375422</td>\n",
       "      <td>-0.076489</td>\n",
       "      <td>0.352591</td>\n",
       "      <td>...</td>\n",
       "      <td>-0.138509</td>\n",
       "      <td>0.272197</td>\n",
       "      <td>-0.053090</td>\n",
       "      <td>-0.119327</td>\n",
       "      <td>0.185941</td>\n",
       "      <td>0.082044</td>\n",
       "      <td>-0.013133</td>\n",
       "      <td>0.078164</td>\n",
       "      <td>-0.011056</td>\n",
       "      <td>-0.011056</td>\n",
       "    </tr>\n",
       "    <tr>\n",
       "      <th>t6</th>\n",
       "      <td>0.117638</td>\n",
       "      <td>-0.079029</td>\n",
       "      <td>0.654769</td>\n",
       "      <td>0.316141</td>\n",
       "      <td>0.801186</td>\n",
       "      <td>-0.009670</td>\n",
       "      <td>0.686882</td>\n",
       "      <td>0.076833</td>\n",
       "      <td>0.652350</td>\n",
       "      <td>0.259047</td>\n",
       "      <td>...</td>\n",
       "      <td>0.667177</td>\n",
       "      <td>0.184424</td>\n",
       "      <td>0.974778</td>\n",
       "      <td>-0.141643</td>\n",
       "      <td>-0.569119</td>\n",
       "      <td>0.169185</td>\n",
       "      <td>-0.081313</td>\n",
       "      <td>0.764242</td>\n",
       "      <td>-0.015086</td>\n",
       "      <td>-0.015086</td>\n",
       "    </tr>\n",
       "    <tr>\n",
       "      <th>rh_6</th>\n",
       "      <td>-0.083178</td>\n",
       "      <td>0.153756</td>\n",
       "      <td>-0.615045</td>\n",
       "      <td>0.245126</td>\n",
       "      <td>-0.580372</td>\n",
       "      <td>0.389933</td>\n",
       "      <td>-0.647672</td>\n",
       "      <td>0.514912</td>\n",
       "      <td>-0.703149</td>\n",
       "      <td>0.392178</td>\n",
       "      <td>...</td>\n",
       "      <td>-0.738940</td>\n",
       "      <td>0.391943</td>\n",
       "      <td>-0.641573</td>\n",
       "      <td>-0.065814</td>\n",
       "      <td>0.718587</td>\n",
       "      <td>0.098317</td>\n",
       "      <td>0.108705</td>\n",
       "      <td>-0.260426</td>\n",
       "      <td>0.011671</td>\n",
       "      <td>0.011671</td>\n",
       "    </tr>\n",
       "    <tr>\n",
       "      <th>t7</th>\n",
       "      <td>0.025801</td>\n",
       "      <td>-0.135347</td>\n",
       "      <td>0.838705</td>\n",
       "      <td>0.021397</td>\n",
       "      <td>0.663660</td>\n",
       "      <td>-0.051422</td>\n",
       "      <td>0.847374</td>\n",
       "      <td>-0.250090</td>\n",
       "      <td>0.877763</td>\n",
       "      <td>-0.131204</td>\n",
       "      <td>...</td>\n",
       "      <td>0.944776</td>\n",
       "      <td>-0.077690</td>\n",
       "      <td>0.631300</td>\n",
       "      <td>-0.097724</td>\n",
       "      <td>-0.411213</td>\n",
       "      <td>-0.185892</td>\n",
       "      <td>-0.110089</td>\n",
       "      <td>0.466664</td>\n",
       "      <td>-0.003900</td>\n",
       "      <td>-0.003900</td>\n",
       "    </tr>\n",
       "    <tr>\n",
       "      <th>rh_7</th>\n",
       "      <td>-0.055642</td>\n",
       "      <td>0.035069</td>\n",
       "      <td>0.135182</td>\n",
       "      <td>0.801122</td>\n",
       "      <td>0.229212</td>\n",
       "      <td>0.690584</td>\n",
       "      <td>0.172624</td>\n",
       "      <td>0.832685</td>\n",
       "      <td>0.043527</td>\n",
       "      <td>0.894301</td>\n",
       "      <td>...</td>\n",
       "      <td>0.028055</td>\n",
       "      <td>0.858686</td>\n",
       "      <td>0.294222</td>\n",
       "      <td>-0.265850</td>\n",
       "      <td>0.378519</td>\n",
       "      <td>0.212979</td>\n",
       "      <td>-0.007184</td>\n",
       "      <td>0.641857</td>\n",
       "      <td>0.001820</td>\n",
       "      <td>0.001820</td>\n",
       "    </tr>\n",
       "    <tr>\n",
       "      <th>t8</th>\n",
       "      <td>0.039572</td>\n",
       "      <td>-0.071458</td>\n",
       "      <td>0.825413</td>\n",
       "      <td>-0.030053</td>\n",
       "      <td>0.578191</td>\n",
       "      <td>-0.041023</td>\n",
       "      <td>0.795283</td>\n",
       "      <td>-0.283228</td>\n",
       "      <td>0.796256</td>\n",
       "      <td>-0.167066</td>\n",
       "      <td>...</td>\n",
       "      <td>0.869338</td>\n",
       "      <td>-0.156820</td>\n",
       "      <td>0.502850</td>\n",
       "      <td>-0.162855</td>\n",
       "      <td>-0.300438</td>\n",
       "      <td>-0.218876</td>\n",
       "      <td>-0.060098</td>\n",
       "      <td>0.391839</td>\n",
       "      <td>-0.003210</td>\n",
       "      <td>-0.003210</td>\n",
       "    </tr>\n",
       "    <tr>\n",
       "      <th>rh_8</th>\n",
       "      <td>-0.094039</td>\n",
       "      <td>0.012915</td>\n",
       "      <td>-0.006441</td>\n",
       "      <td>0.736196</td>\n",
       "      <td>0.068534</td>\n",
       "      <td>0.679777</td>\n",
       "      <td>0.044427</td>\n",
       "      <td>0.828822</td>\n",
       "      <td>-0.095192</td>\n",
       "      <td>0.847259</td>\n",
       "      <td>...</td>\n",
       "      <td>-0.113014</td>\n",
       "      <td>0.855812</td>\n",
       "      <td>0.117164</td>\n",
       "      <td>-0.225591</td>\n",
       "      <td>0.487355</td>\n",
       "      <td>0.202380</td>\n",
       "      <td>0.046178</td>\n",
       "      <td>0.501781</td>\n",
       "      <td>0.004480</td>\n",
       "      <td>0.004480</td>\n",
       "    </tr>\n",
       "    <tr>\n",
       "      <th>t9</th>\n",
       "      <td>0.010010</td>\n",
       "      <td>-0.157592</td>\n",
       "      <td>0.844777</td>\n",
       "      <td>0.115263</td>\n",
       "      <td>0.675535</td>\n",
       "      <td>0.054544</td>\n",
       "      <td>0.901324</td>\n",
       "      <td>-0.195270</td>\n",
       "      <td>0.889439</td>\n",
       "      <td>-0.044518</td>\n",
       "      <td>...</td>\n",
       "      <td>1.000000</td>\n",
       "      <td>-0.008683</td>\n",
       "      <td>0.668218</td>\n",
       "      <td>-0.156828</td>\n",
       "      <td>-0.318848</td>\n",
       "      <td>-0.177756</td>\n",
       "      <td>-0.103915</td>\n",
       "      <td>0.581517</td>\n",
       "      <td>-0.001227</td>\n",
       "      <td>-0.001227</td>\n",
       "    </tr>\n",
       "    <tr>\n",
       "      <th>rh_9</th>\n",
       "      <td>-0.051462</td>\n",
       "      <td>-0.008766</td>\n",
       "      <td>0.071756</td>\n",
       "      <td>0.764001</td>\n",
       "      <td>0.157346</td>\n",
       "      <td>0.676467</td>\n",
       "      <td>0.134602</td>\n",
       "      <td>0.833538</td>\n",
       "      <td>-0.025549</td>\n",
       "      <td>0.856591</td>\n",
       "      <td>...</td>\n",
       "      <td>-0.008683</td>\n",
       "      <td>1.000000</td>\n",
       "      <td>0.223282</td>\n",
       "      <td>-0.183739</td>\n",
       "      <td>0.359377</td>\n",
       "      <td>0.238655</td>\n",
       "      <td>0.008667</td>\n",
       "      <td>0.540337</td>\n",
       "      <td>-0.002955</td>\n",
       "      <td>-0.002955</td>\n",
       "    </tr>\n",
       "    <tr>\n",
       "      <th>t_out</th>\n",
       "      <td>0.099155</td>\n",
       "      <td>-0.074423</td>\n",
       "      <td>0.682854</td>\n",
       "      <td>0.340788</td>\n",
       "      <td>0.792247</td>\n",
       "      <td>0.033703</td>\n",
       "      <td>0.699420</td>\n",
       "      <td>0.118237</td>\n",
       "      <td>0.663479</td>\n",
       "      <td>0.293307</td>\n",
       "      <td>...</td>\n",
       "      <td>0.668218</td>\n",
       "      <td>0.223282</td>\n",
       "      <td>1.000000</td>\n",
       "      <td>-0.143258</td>\n",
       "      <td>-0.574186</td>\n",
       "      <td>0.192940</td>\n",
       "      <td>-0.077367</td>\n",
       "      <td>0.790664</td>\n",
       "      <td>-0.015259</td>\n",
       "      <td>-0.015259</td>\n",
       "    </tr>\n",
       "    <tr>\n",
       "      <th>press_mm_hg</th>\n",
       "      <td>-0.034885</td>\n",
       "      <td>-0.010576</td>\n",
       "      <td>-0.150574</td>\n",
       "      <td>-0.293957</td>\n",
       "      <td>-0.133028</td>\n",
       "      <td>-0.255646</td>\n",
       "      <td>-0.189974</td>\n",
       "      <td>-0.233274</td>\n",
       "      <td>-0.075292</td>\n",
       "      <td>-0.250748</td>\n",
       "      <td>...</td>\n",
       "      <td>-0.156828</td>\n",
       "      <td>-0.183739</td>\n",
       "      <td>-0.143258</td>\n",
       "      <td>1.000000</td>\n",
       "      <td>-0.092017</td>\n",
       "      <td>-0.235032</td>\n",
       "      <td>0.040315</td>\n",
       "      <td>-0.244103</td>\n",
       "      <td>0.000699</td>\n",
       "      <td>0.000699</td>\n",
       "    </tr>\n",
       "    <tr>\n",
       "      <th>rh_out</th>\n",
       "      <td>-0.152282</td>\n",
       "      <td>0.068543</td>\n",
       "      <td>-0.345481</td>\n",
       "      <td>0.274126</td>\n",
       "      <td>-0.505291</td>\n",
       "      <td>0.584911</td>\n",
       "      <td>-0.281718</td>\n",
       "      <td>0.356192</td>\n",
       "      <td>-0.388602</td>\n",
       "      <td>0.336813</td>\n",
       "      <td>...</td>\n",
       "      <td>-0.318848</td>\n",
       "      <td>0.359377</td>\n",
       "      <td>-0.574186</td>\n",
       "      <td>-0.092017</td>\n",
       "      <td>1.000000</td>\n",
       "      <td>-0.176458</td>\n",
       "      <td>0.083125</td>\n",
       "      <td>0.036509</td>\n",
       "      <td>0.020441</td>\n",
       "      <td>0.020441</td>\n",
       "    </tr>\n",
       "    <tr>\n",
       "      <th>windspeed</th>\n",
       "      <td>0.087122</td>\n",
       "      <td>0.060281</td>\n",
       "      <td>-0.087654</td>\n",
       "      <td>0.204932</td>\n",
       "      <td>0.052495</td>\n",
       "      <td>0.069190</td>\n",
       "      <td>-0.100776</td>\n",
       "      <td>0.263188</td>\n",
       "      <td>-0.185747</td>\n",
       "      <td>0.300192</td>\n",
       "      <td>...</td>\n",
       "      <td>-0.177756</td>\n",
       "      <td>0.238655</td>\n",
       "      <td>0.192940</td>\n",
       "      <td>-0.235032</td>\n",
       "      <td>-0.176458</td>\n",
       "      <td>1.000000</td>\n",
       "      <td>-0.007516</td>\n",
       "      <td>0.125926</td>\n",
       "      <td>-0.011342</td>\n",
       "      <td>-0.011342</td>\n",
       "    </tr>\n",
       "    <tr>\n",
       "      <th>visibility</th>\n",
       "      <td>0.000230</td>\n",
       "      <td>0.020038</td>\n",
       "      <td>-0.076210</td>\n",
       "      <td>-0.021057</td>\n",
       "      <td>-0.069721</td>\n",
       "      <td>-0.005368</td>\n",
       "      <td>-0.102310</td>\n",
       "      <td>0.017041</td>\n",
       "      <td>-0.104768</td>\n",
       "      <td>0.002636</td>\n",
       "      <td>...</td>\n",
       "      <td>-0.103915</td>\n",
       "      <td>0.008667</td>\n",
       "      <td>-0.077367</td>\n",
       "      <td>0.040315</td>\n",
       "      <td>0.083125</td>\n",
       "      <td>-0.007516</td>\n",
       "      <td>1.000000</td>\n",
       "      <td>-0.042194</td>\n",
       "      <td>-0.005889</td>\n",
       "      <td>-0.005889</td>\n",
       "    </tr>\n",
       "    <tr>\n",
       "      <th>tdewpoint</th>\n",
       "      <td>0.015357</td>\n",
       "      <td>-0.036331</td>\n",
       "      <td>0.571333</td>\n",
       "      <td>0.639125</td>\n",
       "      <td>0.582632</td>\n",
       "      <td>0.499154</td>\n",
       "      <td>0.645909</td>\n",
       "      <td>0.414398</td>\n",
       "      <td>0.519504</td>\n",
       "      <td>0.616508</td>\n",
       "      <td>...</td>\n",
       "      <td>0.581517</td>\n",
       "      <td>0.540337</td>\n",
       "      <td>0.790664</td>\n",
       "      <td>-0.244103</td>\n",
       "      <td>0.036509</td>\n",
       "      <td>0.125926</td>\n",
       "      <td>-0.042194</td>\n",
       "      <td>1.000000</td>\n",
       "      <td>-0.003950</td>\n",
       "      <td>-0.003950</td>\n",
       "    </tr>\n",
       "    <tr>\n",
       "      <th>rv1</th>\n",
       "      <td>-0.011145</td>\n",
       "      <td>0.000521</td>\n",
       "      <td>-0.006203</td>\n",
       "      <td>-0.000699</td>\n",
       "      <td>-0.011087</td>\n",
       "      <td>0.006275</td>\n",
       "      <td>-0.005194</td>\n",
       "      <td>-0.000477</td>\n",
       "      <td>-0.001815</td>\n",
       "      <td>-0.001787</td>\n",
       "      <td>...</td>\n",
       "      <td>-0.001227</td>\n",
       "      <td>-0.002955</td>\n",
       "      <td>-0.015259</td>\n",
       "      <td>0.000699</td>\n",
       "      <td>0.020441</td>\n",
       "      <td>-0.011342</td>\n",
       "      <td>-0.005889</td>\n",
       "      <td>-0.003950</td>\n",
       "      <td>1.000000</td>\n",
       "      <td>1.000000</td>\n",
       "    </tr>\n",
       "    <tr>\n",
       "      <th>rv2</th>\n",
       "      <td>-0.011145</td>\n",
       "      <td>0.000521</td>\n",
       "      <td>-0.006203</td>\n",
       "      <td>-0.000699</td>\n",
       "      <td>-0.011087</td>\n",
       "      <td>0.006275</td>\n",
       "      <td>-0.005194</td>\n",
       "      <td>-0.000477</td>\n",
       "      <td>-0.001815</td>\n",
       "      <td>-0.001787</td>\n",
       "      <td>...</td>\n",
       "      <td>-0.001227</td>\n",
       "      <td>-0.002955</td>\n",
       "      <td>-0.015259</td>\n",
       "      <td>0.000699</td>\n",
       "      <td>0.020441</td>\n",
       "      <td>-0.011342</td>\n",
       "      <td>-0.005889</td>\n",
       "      <td>-0.003950</td>\n",
       "      <td>1.000000</td>\n",
       "      <td>1.000000</td>\n",
       "    </tr>\n",
       "  </tbody>\n",
       "</table>\n",
       "<p>28 rows × 28 columns</p>\n",
       "</div>"
      ],
      "text/plain": [
       "             appliances    lights        t1      rh_1        t2      rh_2  \\\n",
       "appliances     1.000000  0.197278  0.055447  0.086031  0.120073 -0.060465   \n",
       "lights         0.197278  1.000000 -0.023528  0.106968 -0.005622  0.050985   \n",
       "t1             0.055447 -0.023528  1.000000  0.164006  0.836834 -0.002509   \n",
       "rh_1           0.086031  0.106968  0.164006  1.000000  0.269839  0.797535   \n",
       "t2             0.120073 -0.005622  0.836834  0.269839  1.000000 -0.165610   \n",
       "rh_2          -0.060465  0.050985 -0.002509  0.797535 -0.165610  1.000000   \n",
       "t3             0.085060 -0.097393  0.892402  0.253230  0.735245  0.137319   \n",
       "rh_3           0.036292  0.131161 -0.028550  0.844677  0.121497  0.678326   \n",
       "t4             0.040281 -0.008859  0.877001  0.106180  0.762066 -0.047304   \n",
       "rh_4           0.016965  0.114936  0.097861  0.880359  0.231563  0.721435   \n",
       "t5             0.019760 -0.078745  0.885247  0.205797  0.720550  0.110409   \n",
       "rh_5           0.006955  0.141233 -0.014782  0.303258  0.029595  0.250271   \n",
       "t6             0.117638 -0.079029  0.654769  0.316141  0.801186 -0.009670   \n",
       "rh_6          -0.083178  0.153756 -0.615045  0.245126 -0.580372  0.389933   \n",
       "t7             0.025801 -0.135347  0.838705  0.021397  0.663660 -0.051422   \n",
       "rh_7          -0.055642  0.035069  0.135182  0.801122  0.229212  0.690584   \n",
       "t8             0.039572 -0.071458  0.825413 -0.030053  0.578191 -0.041023   \n",
       "rh_8          -0.094039  0.012915 -0.006441  0.736196  0.068534  0.679777   \n",
       "t9             0.010010 -0.157592  0.844777  0.115263  0.675535  0.054544   \n",
       "rh_9          -0.051462 -0.008766  0.071756  0.764001  0.157346  0.676467   \n",
       "t_out          0.099155 -0.074423  0.682854  0.340788  0.792247  0.033703   \n",
       "press_mm_hg   -0.034885 -0.010576 -0.150574 -0.293957 -0.133028 -0.255646   \n",
       "rh_out        -0.152282  0.068543 -0.345481  0.274126 -0.505291  0.584911   \n",
       "windspeed      0.087122  0.060281 -0.087654  0.204932  0.052495  0.069190   \n",
       "visibility     0.000230  0.020038 -0.076210 -0.021057 -0.069721 -0.005368   \n",
       "tdewpoint      0.015357 -0.036331  0.571333  0.639125  0.582632  0.499154   \n",
       "rv1           -0.011145  0.000521 -0.006203 -0.000699 -0.011087  0.006275   \n",
       "rv2           -0.011145  0.000521 -0.006203 -0.000699 -0.011087  0.006275   \n",
       "\n",
       "                   t3      rh_3        t4      rh_4  ...        t9      rh_9  \\\n",
       "appliances   0.085060  0.036292  0.040281  0.016965  ...  0.010010 -0.051462   \n",
       "lights      -0.097393  0.131161 -0.008859  0.114936  ... -0.157592 -0.008766   \n",
       "t1           0.892402 -0.028550  0.877001  0.097861  ...  0.844777  0.071756   \n",
       "rh_1         0.253230  0.844677  0.106180  0.880359  ...  0.115263  0.764001   \n",
       "t2           0.735245  0.121497  0.762066  0.231563  ...  0.675535  0.157346   \n",
       "rh_2         0.137319  0.678326 -0.047304  0.721435  ...  0.054544  0.676467   \n",
       "t3           1.000000 -0.011234  0.852778  0.122737  ...  0.901324  0.134602   \n",
       "rh_3        -0.011234  1.000000 -0.140457  0.898978  ... -0.195270  0.833538   \n",
       "t4           0.852778 -0.140457  1.000000 -0.048650  ...  0.889439 -0.025549   \n",
       "rh_4         0.122737  0.898978 -0.048650  1.000000  ... -0.044518  0.856591   \n",
       "t5           0.888169 -0.050062  0.871813  0.091812  ...  0.911055  0.072308   \n",
       "rh_5        -0.066355  0.375422 -0.076489  0.352591  ... -0.138509  0.272197   \n",
       "t6           0.686882  0.076833  0.652350  0.259047  ...  0.667177  0.184424   \n",
       "rh_6        -0.647672  0.514912 -0.703149  0.392178  ... -0.738940  0.391943   \n",
       "t7           0.847374 -0.250090  0.877763 -0.131204  ...  0.944776 -0.077690   \n",
       "rh_7         0.172624  0.832685  0.043527  0.894301  ...  0.028055  0.858686   \n",
       "t8           0.795283 -0.283228  0.796256 -0.167066  ...  0.869338 -0.156820   \n",
       "rh_8         0.044427  0.828822 -0.095192  0.847259  ... -0.113014  0.855812   \n",
       "t9           0.901324 -0.195270  0.889439 -0.044518  ...  1.000000 -0.008683   \n",
       "rh_9         0.134602  0.833538 -0.025549  0.856591  ... -0.008683  1.000000   \n",
       "t_out        0.699420  0.118237  0.663479  0.293307  ...  0.668218  0.223282   \n",
       "press_mm_hg -0.189974 -0.233274 -0.075292 -0.250748  ... -0.156828 -0.183739   \n",
       "rh_out      -0.281718  0.356192 -0.388602  0.336813  ... -0.318848  0.359377   \n",
       "windspeed   -0.100776  0.263188 -0.185747  0.300192  ... -0.177756  0.238655   \n",
       "visibility  -0.102310  0.017041 -0.104768  0.002636  ... -0.103915  0.008667   \n",
       "tdewpoint    0.645909  0.414398  0.519504  0.616508  ...  0.581517  0.540337   \n",
       "rv1         -0.005194 -0.000477 -0.001815 -0.001787  ... -0.001227 -0.002955   \n",
       "rv2         -0.005194 -0.000477 -0.001815 -0.001787  ... -0.001227 -0.002955   \n",
       "\n",
       "                t_out  press_mm_hg    rh_out  windspeed  visibility  \\\n",
       "appliances   0.099155    -0.034885 -0.152282   0.087122    0.000230   \n",
       "lights      -0.074423    -0.010576  0.068543   0.060281    0.020038   \n",
       "t1           0.682854    -0.150574 -0.345481  -0.087654   -0.076210   \n",
       "rh_1         0.340788    -0.293957  0.274126   0.204932   -0.021057   \n",
       "t2           0.792247    -0.133028 -0.505291   0.052495   -0.069721   \n",
       "rh_2         0.033703    -0.255646  0.584911   0.069190   -0.005368   \n",
       "t3           0.699420    -0.189974 -0.281718  -0.100776   -0.102310   \n",
       "rh_3         0.118237    -0.233274  0.356192   0.263188    0.017041   \n",
       "t4           0.663479    -0.075292 -0.388602  -0.185747   -0.104768   \n",
       "rh_4         0.293307    -0.250748  0.336813   0.300192    0.002636   \n",
       "t5           0.651335    -0.170999 -0.273953  -0.145011   -0.084164   \n",
       "rh_5        -0.053090    -0.119327  0.185941   0.082044   -0.013133   \n",
       "t6           0.974778    -0.141643 -0.569119   0.169185   -0.081313   \n",
       "rh_6        -0.641573    -0.065814  0.718587   0.098317    0.108705   \n",
       "t7           0.631300    -0.097724 -0.411213  -0.185892   -0.110089   \n",
       "rh_7         0.294222    -0.265850  0.378519   0.212979   -0.007184   \n",
       "t8           0.502850    -0.162855 -0.300438  -0.218876   -0.060098   \n",
       "rh_8         0.117164    -0.225591  0.487355   0.202380    0.046178   \n",
       "t9           0.668218    -0.156828 -0.318848  -0.177756   -0.103915   \n",
       "rh_9         0.223282    -0.183739  0.359377   0.238655    0.008667   \n",
       "t_out        1.000000    -0.143258 -0.574186   0.192940   -0.077367   \n",
       "press_mm_hg -0.143258     1.000000 -0.092017  -0.235032    0.040315   \n",
       "rh_out      -0.574186    -0.092017  1.000000  -0.176458    0.083125   \n",
       "windspeed    0.192940    -0.235032 -0.176458   1.000000   -0.007516   \n",
       "visibility  -0.077367     0.040315  0.083125  -0.007516    1.000000   \n",
       "tdewpoint    0.790664    -0.244103  0.036509   0.125926   -0.042194   \n",
       "rv1         -0.015259     0.000699  0.020441  -0.011342   -0.005889   \n",
       "rv2         -0.015259     0.000699  0.020441  -0.011342   -0.005889   \n",
       "\n",
       "             tdewpoint       rv1       rv2  \n",
       "appliances    0.015357 -0.011145 -0.011145  \n",
       "lights       -0.036331  0.000521  0.000521  \n",
       "t1            0.571333 -0.006203 -0.006203  \n",
       "rh_1          0.639125 -0.000699 -0.000699  \n",
       "t2            0.582632 -0.011087 -0.011087  \n",
       "rh_2          0.499154  0.006275  0.006275  \n",
       "t3            0.645909 -0.005194 -0.005194  \n",
       "rh_3          0.414398 -0.000477 -0.000477  \n",
       "t4            0.519504 -0.001815 -0.001815  \n",
       "rh_4          0.616508 -0.001787 -0.001787  \n",
       "t5            0.588393 -0.005490 -0.005490  \n",
       "rh_5          0.078164 -0.011056 -0.011056  \n",
       "t6            0.764242 -0.015086 -0.015086  \n",
       "rh_6         -0.260426  0.011671  0.011671  \n",
       "t7            0.466664 -0.003900 -0.003900  \n",
       "rh_7          0.641857  0.001820  0.001820  \n",
       "t8            0.391839 -0.003210 -0.003210  \n",
       "rh_8          0.501781  0.004480  0.004480  \n",
       "t9            0.581517 -0.001227 -0.001227  \n",
       "rh_9          0.540337 -0.002955 -0.002955  \n",
       "t_out         0.790664 -0.015259 -0.015259  \n",
       "press_mm_hg  -0.244103  0.000699  0.000699  \n",
       "rh_out        0.036509  0.020441  0.020441  \n",
       "windspeed     0.125926 -0.011342 -0.011342  \n",
       "visibility   -0.042194 -0.005889 -0.005889  \n",
       "tdewpoint     1.000000 -0.003950 -0.003950  \n",
       "rv1          -0.003950  1.000000  1.000000  \n",
       "rv2          -0.003950  1.000000  1.000000  \n",
       "\n",
       "[28 rows x 28 columns]"
      ]
     },
     "execution_count": 13,
     "metadata": {},
     "output_type": "execute_result"
    }
   ],
   "source": [
    "df.corr()"
   ]
  },
  {
   "cell_type": "code",
   "execution_count": 14,
   "metadata": {
    "execution": {
     "iopub.execute_input": "2022-04-08T10:38:22.808192Z",
     "iopub.status.busy": "2022-04-08T10:38:22.807938Z",
     "iopub.status.idle": "2022-04-08T10:38:26.270525Z",
     "shell.execute_reply": "2022-04-08T10:38:26.269882Z",
     "shell.execute_reply.started": "2022-04-08T10:38:22.808158Z"
    }
   },
   "outputs": [
    {
     "name": "stderr",
     "output_type": "stream",
     "text": [
      "WARNING: pip is being invoked by an old script wrapper. This will fail in a future version of pip.\n",
      "Please see https://github.com/pypa/pip/issues/5599 for advice on fixing the underlying issue.\n",
      "To avoid this problem you can invoke Python with '-m pip' instead of running pip directly.\n"
     ]
    },
    {
     "data": {
      "text/html": [
       "<pre style=\"white-space:pre;overflow-x:auto;line-height:normal;font-family:Menlo,'DejaVu Sans Mono',consolas,'Courier New',monospace\">Requirement already satisfied: seaborn in /opt/conda/lib/python3.9/site-packages (0.11.2)\n",
       "</pre>\n"
      ],
      "text/plain": [
       "Requirement already satisfied: seaborn in /opt/conda/lib/python3.9/site-packages (0.11.2)\n"
      ]
     },
     "metadata": {},
     "output_type": "display_data"
    },
    {
     "data": {
      "text/html": [
       "<pre style=\"white-space:pre;overflow-x:auto;line-height:normal;font-family:Menlo,'DejaVu Sans Mono',consolas,'Courier New',monospace\">Requirement already satisfied: scipy&gt;=1.0 in /opt/conda/lib/python3.9/site-packages (from seaborn) (1.6.3)\n",
       "</pre>\n"
      ],
      "text/plain": [
       "Requirement already satisfied: scipy>=1.0 in /opt/conda/lib/python3.9/site-packages (from seaborn) (1.6.3)\n"
      ]
     },
     "metadata": {},
     "output_type": "display_data"
    },
    {
     "data": {
      "text/html": [
       "<pre style=\"white-space:pre;overflow-x:auto;line-height:normal;font-family:Menlo,'DejaVu Sans Mono',consolas,'Courier New',monospace\">Requirement already satisfied: pandas&gt;=0.23 in /opt/conda/lib/python3.9/site-packages (from seaborn) (1.2.4)\n",
       "</pre>\n"
      ],
      "text/plain": [
       "Requirement already satisfied: pandas>=0.23 in /opt/conda/lib/python3.9/site-packages (from seaborn) (1.2.4)\n"
      ]
     },
     "metadata": {},
     "output_type": "display_data"
    },
    {
     "data": {
      "text/html": [
       "<pre style=\"white-space:pre;overflow-x:auto;line-height:normal;font-family:Menlo,'DejaVu Sans Mono',consolas,'Courier New',monospace\">Requirement already satisfied: matplotlib&gt;=2.2 in /opt/conda/lib/python3.9/site-packages (from seaborn) (3.4.1)\n",
       "</pre>\n"
      ],
      "text/plain": [
       "Requirement already satisfied: matplotlib>=2.2 in /opt/conda/lib/python3.9/site-packages (from seaborn) (3.4.1)\n"
      ]
     },
     "metadata": {},
     "output_type": "display_data"
    },
    {
     "data": {
      "text/html": [
       "<pre style=\"white-space:pre;overflow-x:auto;line-height:normal;font-family:Menlo,'DejaVu Sans Mono',consolas,'Courier New',monospace\">Requirement already satisfied: numpy&gt;=1.15 in /opt/conda/lib/python3.9/site-packages (from seaborn) (1.22.2)\n",
       "</pre>\n"
      ],
      "text/plain": [
       "Requirement already satisfied: numpy>=1.15 in /opt/conda/lib/python3.9/site-packages (from seaborn) (1.22.2)\n"
      ]
     },
     "metadata": {},
     "output_type": "display_data"
    },
    {
     "data": {
      "text/html": [
       "<pre style=\"white-space:pre;overflow-x:auto;line-height:normal;font-family:Menlo,'DejaVu Sans Mono',consolas,'Courier New',monospace\">Requirement already satisfied: python-dateutil&gt;=2.7 in /opt/conda/lib/python3.9/site-packages (from matplotlib&gt;=2.2-&gt;seaborn) (2.8.2)\n",
       "</pre>\n"
      ],
      "text/plain": [
       "Requirement already satisfied: python-dateutil>=2.7 in /opt/conda/lib/python3.9/site-packages (from matplotlib>=2.2->seaborn) (2.8.2)\n"
      ]
     },
     "metadata": {},
     "output_type": "display_data"
    },
    {
     "data": {
      "text/html": [
       "<pre style=\"white-space:pre;overflow-x:auto;line-height:normal;font-family:Menlo,'DejaVu Sans Mono',consolas,'Courier New',monospace\">Requirement already satisfied: cycler&gt;=0.10 in /opt/conda/lib/python3.9/site-packages (from matplotlib&gt;=2.2-&gt;seaborn) (0.11.0)\n",
       "</pre>\n"
      ],
      "text/plain": [
       "Requirement already satisfied: cycler>=0.10 in /opt/conda/lib/python3.9/site-packages (from matplotlib>=2.2->seaborn) (0.11.0)\n"
      ]
     },
     "metadata": {},
     "output_type": "display_data"
    },
    {
     "data": {
      "text/html": [
       "<pre style=\"white-space:pre;overflow-x:auto;line-height:normal;font-family:Menlo,'DejaVu Sans Mono',consolas,'Courier New',monospace\">Requirement already satisfied: pillow&gt;=6.2.0 in /opt/conda/lib/python3.9/site-packages (from matplotlib&gt;=2.2-&gt;seaborn) (8.3.2)\n",
       "</pre>\n"
      ],
      "text/plain": [
       "Requirement already satisfied: pillow>=6.2.0 in /opt/conda/lib/python3.9/site-packages (from matplotlib>=2.2->seaborn) (8.3.2)\n"
      ]
     },
     "metadata": {},
     "output_type": "display_data"
    },
    {
     "data": {
      "text/html": [
       "<pre style=\"white-space:pre;overflow-x:auto;line-height:normal;font-family:Menlo,'DejaVu Sans Mono',consolas,'Courier New',monospace\">Requirement already satisfied: pyparsing&gt;=2.2.1 in /opt/conda/lib/python3.9/site-packages (from matplotlib&gt;=2.2-&gt;seaborn) (2.4.7)\n",
       "</pre>\n"
      ],
      "text/plain": [
       "Requirement already satisfied: pyparsing>=2.2.1 in /opt/conda/lib/python3.9/site-packages (from matplotlib>=2.2->seaborn) (2.4.7)\n"
      ]
     },
     "metadata": {},
     "output_type": "display_data"
    },
    {
     "data": {
      "text/html": [
       "<pre style=\"white-space:pre;overflow-x:auto;line-height:normal;font-family:Menlo,'DejaVu Sans Mono',consolas,'Courier New',monospace\">Requirement already satisfied: kiwisolver&gt;=1.0.1 in /opt/conda/lib/python3.9/site-packages (from matplotlib&gt;=2.2-&gt;seaborn) (1.3.2)\n",
       "</pre>\n"
      ],
      "text/plain": [
       "Requirement already satisfied: kiwisolver>=1.0.1 in /opt/conda/lib/python3.9/site-packages (from matplotlib>=2.2->seaborn) (1.3.2)\n"
      ]
     },
     "metadata": {},
     "output_type": "display_data"
    },
    {
     "data": {
      "text/html": [
       "<pre style=\"white-space:pre;overflow-x:auto;line-height:normal;font-family:Menlo,'DejaVu Sans Mono',consolas,'Courier New',monospace\">Requirement already satisfied: pytz&gt;=2017.3 in /opt/conda/lib/python3.9/site-packages (from pandas&gt;=0.23-&gt;seaborn) (2021.1)\n",
       "</pre>\n"
      ],
      "text/plain": [
       "Requirement already satisfied: pytz>=2017.3 in /opt/conda/lib/python3.9/site-packages (from pandas>=0.23->seaborn) (2021.1)\n"
      ]
     },
     "metadata": {},
     "output_type": "display_data"
    },
    {
     "data": {
      "text/html": [
       "<pre style=\"white-space:pre;overflow-x:auto;line-height:normal;font-family:Menlo,'DejaVu Sans Mono',consolas,'Courier New',monospace\">Requirement already satisfied: six&gt;=1.5 in /opt/conda/lib/python3.9/site-packages (from python-dateutil&gt;=2.7-&gt;matplotlib&gt;=2.2-&gt;seaborn) (1.16.0)\n",
       "</pre>\n"
      ],
      "text/plain": [
       "Requirement already satisfied: six>=1.5 in /opt/conda/lib/python3.9/site-packages (from python-dateutil>=2.7->matplotlib>=2.2->seaborn) (1.16.0)\n"
      ]
     },
     "metadata": {},
     "output_type": "display_data"
    },
    {
     "data": {
      "text/plain": [
       "0"
      ]
     },
     "execution_count": 14,
     "metadata": {},
     "output_type": "execute_result"
    }
   ],
   "source": [
    "import pip\n",
    "pip.main(['install','seaborn'])"
   ]
  },
  {
   "cell_type": "code",
   "execution_count": null,
   "metadata": {
    "execution": {
     "iopub.execute_input": "2022-04-08T10:38:26.271900Z",
     "iopub.status.busy": "2022-04-08T10:38:26.271651Z"
    },
    "tags": []
   },
   "outputs": [],
   "source": [
    "# To have an insight on the correlation, we will map the correlation\n",
    "import seaborn as sns\n",
    "sns.pairplot(df)"
   ]
  },
  {
   "cell_type": "code",
   "execution_count": null,
   "metadata": {
    "tags": []
   },
   "outputs": [],
   "source": [
    "#so we need another visualisation of our correlations # to make the heatmap of diff correlation\n",
    "%matplotlib inline"
   ]
  },
  {
   "cell_type": "code",
   "execution_count": null,
   "metadata": {
    "tags": []
   },
   "outputs": [],
   "source": [
    "#get correlations of each features in dataset\n",
    "corrmat = df.corr()\n",
    "top_corr_features = corrmat.index\n",
    "plt.figure(figsize=(10,10))\n",
    "#plot heat map\n",
    "df_heatmap=sns.heatmap(df[top_corr_features].corr(),annot=True,cmap=\"RdYlGn\")"
   ]
  },
  {
   "cell_type": "markdown",
   "metadata": {},
   "source": [
    "# Dealing with outliers"
   ]
  },
  {
   "cell_type": "code",
   "execution_count": null,
   "metadata": {
    "tags": []
   },
   "outputs": [],
   "source": [
    "#the energy consuption of our appliances\n",
    "sorted_appliances = df.sort_values('appliances', ascending=False)\n",
    "sorted_appliances.head()"
   ]
  },
  {
   "cell_type": "markdown",
   "metadata": {},
   "source": [
    "#the highest energy consumed is 1080watts."
   ]
  },
  {
   "cell_type": "code",
   "execution_count": null,
   "metadata": {
    "tags": []
   },
   "outputs": [],
   "source": [
    "#to check the 1% of outlier\n",
    "len(sorted_appliances.head(len(sorted_appliances)//1000))"
   ]
  },
  {
   "cell_type": "markdown",
   "metadata": {},
   "source": [
    "it means the value of free energy consumed is 19"
   ]
  },
  {
   "cell_type": "code",
   "execution_count": null,
   "metadata": {
    "tags": []
   },
   "outputs": [],
   "source": [
    "#to identify the value of 19 in our data. the 19th place\n",
    "sorted_appliances.appliances[19]"
   ]
  },
  {
   "cell_type": "markdown",
   "metadata": {},
   "source": [
    "790wh as the basline of our value. meaning above 790 will be considered as outlier as far as the study is concerned because only the values in the top 1 % are considred as outliers in the statistical point of view."
   ]
  },
  {
   "cell_type": "code",
   "execution_count": null,
   "metadata": {
    "tags": []
   },
   "outputs": [],
   "source": [
    "import warnings\n",
    "warnings.filterwarnings(\"ignore\")"
   ]
  },
  {
   "cell_type": "code",
   "execution_count": null,
   "metadata": {
    "tags": []
   },
   "outputs": [],
   "source": [
    "sorted_appliances = df.sort_values('appliances', ascending=False)\n",
    "print(\"The number of 0,1% top values of appliances'load is\",\n",
    "      len(sorted_appliances.head(len(sorted_appliances)//1000)),\"and they have power load higher than\",\n",
    "      sorted_appliances.appliances[19], \"wh.\")\n",
    "\n",
    "#boxplot appliances\n",
    "sns.set(style=\"whitegrid\")\n",
    "ax = sns.boxplot(sorted_appliances.appliances)"
   ]
  },
  {
   "cell_type": "code",
   "execution_count": null,
   "metadata": {
    "tags": []
   },
   "outputs": [],
   "source": [
    "#some values are not outliers. those which are above 790 are oltliers and we drop them\n",
    "df= df.dropna()\n",
    "df = df.drop(df[(df.appliances>790)|(df.appliances<0)].index)"
   ]
  },
  {
   "cell_type": "code",
   "execution_count": null,
   "metadata": {
    "tags": []
   },
   "outputs": [],
   "source": [
    "#to check if the outliers have been droped\n",
    "sorted_appliances = df.sort_values('appliances', ascending=False)\n",
    "sorted_appliances.head()"
   ]
  },
  {
   "cell_type": "markdown",
   "metadata": {},
   "source": [
    "what kind of features are we going to add? this requires logic and intuition\n",
    "appliances energy load is by hour, weekday, week, monthly\n",
    "night < day\n",
    "weekends> weekdays\n",
    "\n",
    "The use of diff appliances can vary between night and the day, weekdays and weekends because students can be in school.\n",
    "when temp and hum is higher, the energy load is also higher\n",
    "low temp, low humidity and energy will be low."
   ]
  },
  {
   "cell_type": "code",
   "execution_count": null,
   "metadata": {
    "tags": []
   },
   "outputs": [],
   "source": [
    "#to get accurate prediction, we need to bring in date and index hour, week and month\n",
    "df = pd.read_csv(\"energy.csv\", parse_dates= [\"date\"])\n",
    "df.head()"
   ]
  },
  {
   "cell_type": "code",
   "execution_count": null,
   "metadata": {
    "tags": []
   },
   "outputs": [],
   "source": [
    "df.columns = [x.lower() for x in df.columns]\n",
    "df = df.set_index(\"date\")\n",
    "df.head()"
   ]
  },
  {
   "cell_type": "code",
   "execution_count": null,
   "metadata": {
    "tags": []
   },
   "outputs": [],
   "source": [
    "#to index the different timme elements in date\n",
    "import warnings\n",
    "warnings.filterwarnings(\"ignore\")"
   ]
  },
  {
   "cell_type": "code",
   "execution_count": null,
   "metadata": {
    "tags": []
   },
   "outputs": [],
   "source": [
    "#to train data and get best model \n",
    "df['hour'] = df.index.hour\n",
    "df['week'] = df.index.week\n",
    "df['weekday'] = df.index.weekday\n",
    "df['month'] = df.index.month"
   ]
  },
  {
   "cell_type": "code",
   "execution_count": null,
   "metadata": {
    "tags": []
   },
   "outputs": [],
   "source": [
    "# we have to create a new index for our dataset.\n",
    "df[\"log_appliances\"] = np.log(df.appliances)"
   ]
  },
  {
   "cell_type": "code",
   "execution_count": null,
   "metadata": {
    "tags": []
   },
   "outputs": [],
   "source": [
    "#now to get the averages of house tempt and house humidity, to get the average of temp, we have 8 values of temp. we will add them and deived by 8\n",
    "#t6 and rh_6 are skipped because we are dealing with the tempt and humidty inside the house. t6 and rh_6 aew temp and humidty outside the house respectively. so we are not considering the features outside the building but only those inside the building.\n",
    "df[\"house_temp\"] = ((df.t1+df.t2+df.t3+df.t4+df.t5+df.t7+df.t8+df.t9)/8)\n",
    "df[\"house_humidity\"] = ((df.rh_1+df.rh_2+df.rh_3+df.rh_4+df.rh_5+df.rh_7+df.rh_8+df.rh_9)/8)"
   ]
  },
  {
   "cell_type": "code",
   "execution_count": null,
   "metadata": {
    "tags": []
   },
   "outputs": [],
   "source": [
    "#to get the value of average of house temp in diff time intervals\n",
    "df[\"house_temp\"].head()"
   ]
  },
  {
   "cell_type": "code",
   "execution_count": null,
   "metadata": {
    "tags": []
   },
   "outputs": [],
   "source": [
    "#to get the value of averageof house humidity in diff time intervals\n",
    "df[\"house_humidity\"].head()"
   ]
  },
  {
   "cell_type": "code",
   "execution_count": null,
   "metadata": {
    "tags": []
   },
   "outputs": [],
   "source": [
    "#there is 10 mins time interval in our features\n",
    "#remove additive assumptions. to be able to bring good variables necessary for our preictions\n",
    "#we consider light because it has effect on the temp and humidity of the room\n",
    "#t6 is considered because it can also addd energy load on our home appliances\n",
    "df[\"hour*lights\"] = df.hour*df.lights\n",
    "df[\"t3rh3\"] = df.t3*df.rh_3\n",
    "df[\"t1rh1\"] = df.t1*df.rh_1\n",
    "df[\"t2rh2\"] = df.t2*df.rh_2\n",
    "df[\"t4rh4\"] = df.t4*df.rh_4\n",
    "df[\"t5rh5\"] = df.t5*df.rh_5\n",
    "df[\"t6rh6\"] = df.t6*df.rh_6\n",
    "df[\"t7rh7\"] = df.t7*df.rh_7\n",
    "df[\"t8rh8\"] = df.t8*df.rh_8\n",
    "df[\"t9rh9\"] = df.t9*df.rh_9"
   ]
  },
  {
   "cell_type": "code",
   "execution_count": null,
   "metadata": {
    "tags": []
   },
   "outputs": [],
   "source": [
    "#cal the average energy load per weekday and per hour\n",
    "def code_mean(data, cat_feature, real_feature):\n",
    "    return dict(data.groupby(cat_feature)[real_feature].mean())"
   ]
  },
  {
   "cell_type": "code",
   "execution_count": null,
   "metadata": {
    "tags": []
   },
   "outputs": [],
   "source": [
    "#average energy consuption per weekday per hour\n",
    "df[\"weekday_avg\"]= list(map(\n",
    "    code_mean(df[:], \"weekday\", \"appliances\").get, df.weekday))\n",
    "df[\"hour_avg\"] = list(map(\n",
    "    code_mean(df[:], \"hour\", \"appliances\").get, df.hour))"
   ]
  },
  {
   "cell_type": "code",
   "execution_count": null,
   "metadata": {
    "tags": []
   },
   "outputs": [],
   "source": [
    "df[\"weekday_avg\"].head()"
   ]
  },
  {
   "cell_type": "code",
   "execution_count": null,
   "metadata": {
    "tags": []
   },
   "outputs": [],
   "source": [
    "df[\"hour_avg\"].head()"
   ]
  },
  {
   "cell_type": "code",
   "execution_count": null,
   "metadata": {
    "tags": []
   },
   "outputs": [],
   "source": [
    "#consider the mins interval and get the mean\n",
    "df_hour = df.resample(\"1H\").mean()\n",
    "df_30mins = df.resample(\"30min\").mean()"
   ]
  },
  {
   "cell_type": "code",
   "execution_count": null,
   "metadata": {
    "tags": []
   },
   "outputs": [],
   "source": [
    "df_30mins.head()"
   ]
  },
  {
   "cell_type": "code",
   "execution_count": null,
   "metadata": {
    "tags": []
   },
   "outputs": [],
   "source": [
    "df_hour.head()"
   ]
  },
  {
   "cell_type": "code",
   "execution_count": null,
   "metadata": {
    "tags": []
   },
   "outputs": [],
   "source": [
    "#we can see the significance of this intervals properly and which of the value can be considered low or higher\n",
    "#so wee need to set the assumptions\n",
    "#when consuption is higher, the load is higher\n",
    "\n",
    "#setting assumptions\n",
    "#tryouts usind Standard deviations\n",
    "\n",
    "#set the energy consumption for 1hr and another for 30 minutes\n",
    "df_hour[\"low_consumptions\"] = (df_hour.appliances+25<(df_hour.hour_avg))*1\n",
    "df_hour[\"high_consumptions\"] = (df_hour.appliances+25<(df_hour.hour_avg))*1\n",
    "\n",
    "df_30mins[\"low_consumptions\"] = (df_30mins.appliances+25<(df_30mins.hour_avg))*1\n",
    "df_30mins[\"high_consumptions\"] = (df_30mins.appliances+35<(df_30mins.hour_avg))*1"
   ]
  },
  {
   "cell_type": "code",
   "execution_count": null,
   "metadata": {
    "tags": []
   },
   "outputs": [],
   "source": [
    "#Assumptions\n",
    "plt.figure(figsize=(16,6))\n",
    "plt.plot(df_hour.appliances)\n",
    "plt.xticks( rotation='45')\n",
    "plt.xlabel('Date')\n",
    "plt.ylabel('Appliances consumption in Wh')"
   ]
  },
  {
   "cell_type": "markdown",
   "metadata": {},
   "source": [
    "In this plot things are not very clear, thus it is suggested to use grooup-bys"
   ]
  },
  {
   "cell_type": "code",
   "execution_count": null,
   "metadata": {
    "tags": []
   },
   "outputs": [],
   "source": [
    "#plot the diff value\n",
    "def daily(x,df=df):\n",
    "    return df.groupby(\"weekday\")[x].mean()\n",
    "def hourly(x,df=df):\n",
    "    return df.groupby(\"hour\")[x].mean()\n",
    "\n",
    "def monthly_daily(x,df=df):\n",
    "    by_day = df_pivot_table(index=\"weekday\",\n",
    "                           columns=[\"month\"],\n",
    "                           values=x,\n",
    "                           aggfunc=\"mean\")\n",
    "    return round (by_day, ndigits=2)"
   ]
  },
  {
   "cell_type": "code",
   "execution_count": null,
   "metadata": {
    "tags": []
   },
   "outputs": [],
   "source": [
    "#plotting the hourly consumption\n",
    "hourly('appliances').plot(figsize=(8,6))\n",
    "plt.xlabel(\"Hour\")\n",
    "plt.ylabel(\"Appliances consumption in wh\")\n",
    "ticks = list(range(0, 24, 1))\n",
    "plt.title(\"Mean Energy consumption per Hour of a Day\")\n",
    "plt.xticks(ticks);"
   ]
  },
  {
   "cell_type": "code",
   "execution_count": null,
   "metadata": {
    "tags": []
   },
   "outputs": [],
   "source": [
    "#weekly consumption to check the part of the week that has the hihgest and lowest consumption\n",
    "daily('appliances').plot(kind = 'bar', color = ['red','green','purple','blue','cyan', 'yellow','orange'], figsize=(10,7))\n",
    "ticks= list(range(0, 7, 1))\n",
    "labels = 'Mon Tues Weds Thurs Fri Sat Sun'.split()\n",
    "plt.xlabel('Day')\n",
    "plt.ylabel('Appliances consumption in wh')\n",
    "plt.title('Mean Energy consumption per Day of week')\n",
    "plt.xticks(ticks,labels);"
   ]
  },
  {
   "cell_type": "code",
   "execution_count": null,
   "metadata": {
    "tags": []
   },
   "outputs": [],
   "source": [
    "#to identify the linear relationship between the features\n",
    "#we used log function earlier to reduce the bias and we can make a comprison btw the raw data and the one that we transform \n",
    "#make histogram of appliance consumPtions\n",
    "f, axes= plt.subplots(1, 2, figsize=(10,5))\n",
    "sns.distplot(df_hour.appliances, hist=True, color= 'red', hist_kws= {'edgecolor': 'black'}, ax=axes[0])\n",
    "axes[0].set_title(\"Appliance's consumption\")\n",
    "axes[0].set_xlabel(\"Appliances WH\")\n",
    "\n",
    "sns.distplot(df_hour.log_appliances, hist=True, color= 'green', hist_kws= {'edgecolor': 'black'}, ax=axes[1])\n",
    "axes[1].set_title(\"Log Appliance's consumption\")\n",
    "axes[1].set_xlabel(\"Appliances Log(WH)\")"
   ]
  },
  {
   "cell_type": "code",
   "execution_count": null,
   "metadata": {
    "tags": []
   },
   "outputs": [],
   "source": [
    "#correlation of our features\n",
    "#identify the correlation among features\n",
    "col = ['log_appliances', 'lights', 't1', 'rh_1', 't2', 'rh_2','t3', 'rh_3', 't4', 'rh_4', 't5', 'rh_5', 't6', 'rh_6', 't7', 'rh_7','t8', 'rh_8', 't9', 'rh_9', 't_out', 'press_mm_hg', 'rh_out', 'windspeed', 'visibility', 'tdewpoint', 'hour']\n",
    "corr = df[col].corr()\n",
    "plt.figure(figsize=(18,18))\n",
    "sns.set(font_scale=1)\n",
    "sns.heatmap(corr, cbar=True, annot=True, square = True, cmap=\"YlGnBu\", fmt = \".2f\", xticklabels=col, yticklabels=col)\n",
    "plt.show();"
   ]
  },
  {
   "cell_type": "code",
   "execution_count": null,
   "metadata": {
    "tags": []
   },
   "outputs": [],
   "source": [
    "# let's try light as potential predictor variable of appliances\n",
    "# humidity, temperature and weather are the independent variables, the Appliances are the dependent variable\n",
    "# Independent variables : 28(11 temperature, 10 humidity, 1 pressure, 2 randoms), Dependent variable : 1 (Appliances)\n",
    "sns.regplot(x=\"t2\", y=\"appliances\", data=df)\n",
    "plt.ylim(0,)"
   ]
  },
  {
   "cell_type": "code",
   "execution_count": null,
   "metadata": {
    "tags": []
   },
   "outputs": [],
   "source": [
    "#We can examine the correlation between 't2' and 'appliances' and see it's approximately\n",
    "\n",
    "df[[\"t2\", \"log_appliances\"]].corr()"
   ]
  },
  {
   "cell_type": "code",
   "execution_count": null,
   "metadata": {
    "tags": []
   },
   "outputs": [],
   "source": [
    "df[['lights','log_appliances']].corr()"
   ]
  },
  {
   "cell_type": "code",
   "execution_count": null,
   "metadata": {
    "tags": []
   },
   "outputs": [],
   "source": [
    "df[['t6','log_appliances']].corr()"
   ]
  },
  {
   "cell_type": "code",
   "execution_count": null,
   "metadata": {
    "tags": []
   },
   "outputs": [],
   "source": [
    "sns.regplot(x=\"lights\", y=\"log_appliances\", data=df)\n",
    "plt.ylim(0,)"
   ]
  },
  {
   "cell_type": "markdown",
   "metadata": {},
   "source": [
    "light might not be a good predictor for energy consumption of appliances"
   ]
  },
  {
   "cell_type": "code",
   "execution_count": null,
   "metadata": {
    "tags": []
   },
   "outputs": [],
   "source": [
    "sns.regplot(x=\"hour\", y=\"log_appliances\", data=df)\n",
    "plt.ylim(0,)"
   ]
  },
  {
   "cell_type": "code",
   "execution_count": null,
   "metadata": {
    "tags": []
   },
   "outputs": [],
   "source": [
    "sns.regplot(x=\"t6\", y=\"log_appliances\", data=df)\n",
    "plt.ylim(0,)"
   ]
  },
  {
   "cell_type": "markdown",
   "metadata": {},
   "source": [
    "# Linear dependencey evaluation"
   ]
  },
  {
   "cell_type": "code",
   "execution_count": null,
   "metadata": {
    "tags": []
   },
   "outputs": [],
   "source": [
    "#to identify diff linear relationshps btw our features and understand whic hfeatures will be retained for modeling and why other features are not considered for our modelling "
   ]
  },
  {
   "cell_type": "markdown",
   "metadata": {},
   "source": [
    "Below we examine linear dependence among some basic features of our data set. In a linear regression model only linear independent variables can be used as features. To explain energy consumption in other way, we will have multicolinearity issues."
   ]
  },
  {
   "cell_type": "code",
   "execution_count": null,
   "metadata": {
    "tags": []
   },
   "outputs": [],
   "source": [
    "#to check the linear relationship\n",
    "col=['t6','t2','rh_2','lights','hour','t_out', 'windspeed', 'tdewpoint']\n",
    "sns.set(style=\"ticks\", color_codes=True)\n",
    "sns.pairplot(df[col])\n",
    "plt.show();"
   ]
  },
  {
   "cell_type": "markdown",
   "metadata": {},
   "source": [
    "# Transforming categorical variables to train the model"
   ]
  },
  {
   "cell_type": "markdown",
   "metadata": {},
   "source": [
    "Generate different datasets with time interval 10 minutes, 30 minutes, 1 hour respectively. Using the 1 hour data set for further analysis as it having less noise."
   ]
  },
  {
   "cell_type": "code",
   "execution_count": null,
   "metadata": {
    "tags": []
   },
   "outputs": [],
   "source": [
    "#we need to first transform the variables to dummy variable\n",
    "#low consumotion and high consuption are additional variables to our log features\n",
    "# not all the features will be used to train our model. we I will only pick the variables/features that are highly correlated\n",
    "\n",
    "for cat_feature in ['weekday','hour',]:\n",
    "    df_hour = pd.concat([df_hour, pd.get_dummies(df_hour[cat_feature])], axis=1)\n",
    "    df_30mins= pd.concat([df_30mins, pd.get_dummies(df_30mins[cat_feature])], axis=1)\n",
    "    df= pd.concat([df, pd.get_dummies(df[cat_feature])], axis=1)"
   ]
  },
  {
   "cell_type": "code",
   "execution_count": null,
   "metadata": {
    "tags": []
   },
   "outputs": [],
   "source": [
    "lin_model= ['low_consumptions', 'high_consumptions', 'hour', 't6', 'rh_6', 'hour*lights', 'windspeed', 't6rh6' ]"
   ]
  },
  {
   "cell_type": "code",
   "execution_count": null,
   "metadata": {
    "tags": []
   },
   "outputs": [],
   "source": [
    "# to avoid warnings from standardscaler\n",
    "df_hour.lights = df_hour.lights.astype(float)\n",
    "df_hour.log_appliances = df_hour.log_appliances.astype(float)\n",
    "df_hour.hour = df_hour.hour.astype(float)\n",
    "df_hour.low_consumptions = df_hour.low_consumptions.astype(float)\n",
    "df_hour.high_consumptions = df_hour.high_consumptions.astype(float)\n",
    "df_hour.t6rh6 = df_hour.t6rh6.astype(float)"
   ]
  },
  {
   "cell_type": "code",
   "execution_count": null,
   "metadata": {
    "tags": []
   },
   "outputs": [],
   "source": [
    "# to avoid warnings from standardscaler\n",
    "df_hour.lights = df_hour.lights.astype(float)\n",
    "df_hour.log_appliances = df_hour.log_appliances.astype(float)\n",
    "df_hour.hour = df_hour.hour.astype(float)\n",
    "df_hour.low_consumptions = df_hour.low_consumptions.astype(float)\n",
    "df_hour.high_consumptions = df_hour.high_consumptions.astype(float)\n",
    "df_hour.t6rh6 = df_hour.t6rh6.astype(float)"
   ]
  },
  {
   "cell_type": "code",
   "execution_count": null,
   "metadata": {
    "tags": []
   },
   "outputs": [],
   "source": [
    "# Creation of train/test sets\n",
    "test_size=.2\n",
    "test_index = int(len(df_hour.dropna())*(1-test_size))\n",
    "\n",
    "x1_train, x1_test = df_hour[lin_model].iloc[:test_index,], df_hour[lin_model].iloc[test_index:,]\n",
    "y1_train = df_hour.log_appliances.iloc[:test_index,]\n",
    "\n",
    "y_test =  df_hour.log_appliances.iloc[test_index:,]"
   ]
  },
  {
   "cell_type": "code",
   "execution_count": null,
   "metadata": {
    "tags": []
   },
   "outputs": [],
   "source": [
    "#to standardize. standardadization is done after nirmalisation. standardization is effective when our data is normalised.\n",
    "from sklearn.preprocessing import StandardScaler\n",
    "\n",
    "# Normalizing of X matrices for each model to mean = 0 and standard deviation = 1\n",
    "\n",
    "scaler = StandardScaler()\n",
    "scaler.fit(x1_train)\n",
    "x1_train = scaler.transform(x1_train)\n",
    "x1_test = scaler.transform(x1_test)"
   ]
  },
  {
   "cell_type": "code",
   "execution_count": null,
   "metadata": {
    "tags": []
   },
   "outputs": [],
   "source": [
    "#to train the data\n",
    "from sklearn import linear_model\n",
    "lin_model = linear_model.LinearRegression()\n",
    "lin_model.fit(x1_train,y1_train)"
   ]
  },
  {
   "cell_type": "markdown",
   "metadata": {},
   "source": [
    "# Model Evaluation & Selection"
   ]
  },
  {
   "cell_type": "code",
   "execution_count": null,
   "metadata": {
    "tags": []
   },
   "outputs": [],
   "source": [
    "#after training the model, we need d to evaluate the model\n",
    "#time series data using rsquare to test the accuracy and validity of our prediction\n",
    "from sklearn.model_selection import TimeSeriesSplit\n",
    "from sklearn.metrics import mean_squared_error, r2_score\n",
    "from sklearn.model_selection import cross_val_score, cross_val_predict\n",
    "from sklearn import metrics"
   ]
  },
  {
   "cell_type": "code",
   "execution_count": null,
   "metadata": {
    "tags": []
   },
   "outputs": [],
   "source": [
    "#after training the model, we need d to evaluate the model\n",
    "#time series data using rsquare to test the accuracy and validity of our prediction\n",
    "from sklearn.model_selection import TimeSeriesSplit\n",
    "from sklearn.metrics import mean_squared_error, r2_score\n",
    "from sklearn.model_selection import cross_val_score, cross_val_predict\n",
    "from sklearn import metrics"
   ]
  },
  {
   "cell_type": "code",
   "execution_count": null,
   "metadata": {
    "tags": []
   },
   "outputs": [],
   "source": [
    "# Function to evaluate the models\n",
    "\n",
    "def evaluate(model, test_features, test_labels):\n",
    "    predictions = model.predict(test_features)\n",
    "    errors = abs(predictions - test_labels)\n",
    "    mape = 100 * np.mean(errors / test_labels)\n",
    "    r_score = 100*r2_score(test_labels,predictions)\n",
    "    accuracy = 100 - mape\n",
    "    print(model,'\\n')\n",
    "    print('Average Error       : {:0.4f} degrees'.format(np.mean(errors)))\n",
    "    print('Variance score R^2  : {:0.2f}%' .format(r_score))\n",
    "    print('Accuracy            : {:0.2f}%\\n'.format(accuracy))"
   ]
  },
  {
   "cell_type": "code",
   "execution_count": null,
   "metadata": {
    "tags": []
   },
   "outputs": [],
   "source": [
    "evaluate(lin_model, x1_test, y_test)"
   ]
  },
  {
   "cell_type": "markdown",
   "metadata": {},
   "source": [
    "# Model validation"
   ]
  },
  {
   "cell_type": "code",
   "execution_count": null,
   "metadata": {
    "tags": []
   },
   "outputs": [],
   "source": [
    "#to forecast and validate the model using time series\n",
    "#instead of KFold I use TimeSeriesSplit (10 splits) due to time series data\n",
    "cv = TimeSeriesSplit(n_splits = 10)\n",
    "\n",
    "\n",
    "print('Linear Model:')\n",
    "scores = cross_val_score(lin_model, x1_train, y1_train, cv=cv,scoring='neg_mean_absolute_error')\n",
    "print(\"Accuracy: %0.2f (+/- %0.2f) degrees\" % (100+scores.mean(), scores.std() * 2))\n",
    "scores = cross_val_score(lin_model, x1_train, y1_train, cv=cv,scoring='r2')\n",
    "print(\"R^2: %0.2f (+/- %0.2f) degrees\" % (scores.mean(), scores.std() * 2))"
   ]
  },
  {
   "cell_type": "code",
   "execution_count": null,
   "metadata": {
    "tags": []
   },
   "outputs": [],
   "source": [
    "#to visualise the outcome of the result\n",
    "y1_pred = lin_model.predict(x1_test)"
   ]
  },
  {
   "cell_type": "code",
   "execution_count": null,
   "metadata": {
    "tags": []
   },
   "outputs": [],
   "source": [
    "#to plot the residual value to check the diff bet the predicted value and the actual value\n",
    "fig, ax = plt.subplots(figsize=(10,4), sharey=True)\n",
    "ax.scatter(y1_pred,y_test-y1_pred)\n",
    "ax.set_title('Linear Regression')\n",
    "fig.text(0.06, 0.5, 'Residuals', ha='center', va='center', rotation='vertical')\n",
    "fig.text(0.5, 0.01,'Fitted Values', ha='center', va='center')"
   ]
  },
  {
   "cell_type": "code",
   "execution_count": null,
   "metadata": {
    "tags": []
   },
   "outputs": [],
   "source": [
    "#from above, our model does not have any constant standard deviation . scatered deviation"
   ]
  },
  {
   "cell_type": "code",
   "execution_count": null,
   "metadata": {
    "tags": []
   },
   "outputs": [],
   "source": [
    "fig, ax = plt.subplots(figsize=(10,4), sharey=True)\n",
    "ax.scatter(y_test,y1_pred)\n",
    "ax.set_title('Linear Regression')\n",
    "fig.text(0.06, 0.5, 'Predictions', ha='center', va='center', rotation='vertical')\n",
    "fig.text(0.5, 0.01,'True Values', ha='center', va='center')"
   ]
  },
  {
   "cell_type": "code",
   "execution_count": null,
   "metadata": {
    "tags": []
   },
   "outputs": [],
   "source": [
    "#linear regression does not really give a good prediction compared to other model.\n",
    "\n",
    "#the residual and the true value will not give us what is going on in our linear modeling."
   ]
  },
  {
   "cell_type": "code",
   "execution_count": null,
   "metadata": {
    "tags": []
   },
   "outputs": [],
   "source": [
    "# compare the predicted value and the actual value to predict whether our model is gilty of overfitting or underfitting\n",
    "fig = plt.figure(figsize=(15,10))\n",
    "plt.plot(y_test.values,label='Target value',color='b')\n",
    "plt.plot(y1_pred,label='Linear Prediction ', linestyle='--', color='y')\n",
    "\n",
    "plt.legend(loc=1)"
   ]
  },
  {
   "cell_type": "markdown",
   "metadata": {},
   "source": [
    "let's try other model and compare"
   ]
  },
  {
   "cell_type": "markdown",
   "metadata": {},
   "source": [
    "# SVR model"
   ]
  },
  {
   "cell_type": "code",
   "execution_count": null,
   "metadata": {
    "tags": []
   },
   "outputs": [],
   "source": [
    "#SVR model\n",
    "model2=['hour', 'low_consumptions', 'high_consumptions', 't3','t5','rh_3','t8','rh_2','t4','tdewpoint','t_out','rh_5','lights',\n",
    "        'rh_8','rh_1','t7','t2','rh_6','press_mm_hg','rh_4','t6','rh_7','t9','rh_out','visibility','rh_9','t1','windspeed']"
   ]
  },
  {
   "cell_type": "code",
   "execution_count": null,
   "metadata": {
    "tags": []
   },
   "outputs": [],
   "source": [
    "#SVR model\n",
    "x2_train, x2_test = df_hour[model2].iloc[:test_index,], df_hour[model2].iloc[test_index:,]\n",
    "y2_train = df_hour.log_appliances.iloc[:test_index,]\n",
    "y_test =  df_hour.log_appliances.iloc[test_index:,]"
   ]
  },
  {
   "cell_type": "code",
   "execution_count": null,
   "metadata": {
    "tags": []
   },
   "outputs": [],
   "source": [
    "from sklearn import svm\n",
    "\n",
    "svr_model = svm.SVR(gamma='scale')\n",
    "svr_model.fit(x2_train,y2_train)"
   ]
  },
  {
   "cell_type": "code",
   "execution_count": null,
   "metadata": {
    "tags": []
   },
   "outputs": [],
   "source": [
    "evaluate(svr_model, x2_test, y_test)"
   ]
  },
  {
   "cell_type": "code",
   "execution_count": null,
   "metadata": {
    "tags": []
   },
   "outputs": [],
   "source": [
    "#cross validation\n",
    "cv = TimeSeriesSplit(n_splits = 10)\n",
    "scores = cross_val_score(svr_model, x2_train, y2_train, cv=cv,scoring='neg_mean_absolute_error')\n",
    "print(\"Accuracy: %0.2f (+/- %0.2f) degrees\" % (100+scores.mean(), scores.std() * 2))\n",
    "scores = cross_val_score(svr_model, x2_train, y2_train, cv=cv)\n",
    "print(\"R^2: %0.2f (+/- %0.2f) degrees\" % (scores.mean(), scores.std() * 2))"
   ]
  },
  {
   "cell_type": "code",
   "execution_count": null,
   "metadata": {
    "tags": []
   },
   "outputs": [],
   "source": [
    "y2_pred = svr_model.predict(x2_test)"
   ]
  },
  {
   "cell_type": "code",
   "execution_count": null,
   "metadata": {
    "tags": []
   },
   "outputs": [],
   "source": [
    "fig, ax = plt.subplots(figsize=(10,4), sharey=True)\n",
    "ax.scatter(y2_pred,y_test-y2_pred)\n",
    "ax.set_title('SVR')\n",
    "fig.text(0.06, 0.5, 'Residuals', ha='center', va='center', rotation='vertical')\n",
    "fig.text(0.5, 0.01,'Fitted Values', ha='center', va='center')"
   ]
  },
  {
   "cell_type": "code",
   "execution_count": null,
   "metadata": {
    "tags": []
   },
   "outputs": [],
   "source": [
    "fig, ax = plt.subplots(figsize=(10,4), sharey=True)\n",
    "ax.scatter(y_test,y1_pred)\n",
    "ax.set_title('SVR')\n",
    "fig.text(0.06, 0.5, 'Predictions', ha='center', va='center', rotation='vertical')\n",
    "fig.text(0.5, 0.01,'True Values', ha='center', va='center')"
   ]
  },
  {
   "cell_type": "code",
   "execution_count": null,
   "metadata": {
    "tags": []
   },
   "outputs": [],
   "source": [
    "fig = plt.figure(figsize=(15,10))\n",
    "plt.plot(y_test.values,label='Target value',color='b')\n",
    "plt.plot(y1_pred,label='SVR ', linestyle='--', color='y')\n",
    "\n",
    "plt.legend(loc=1)"
   ]
  },
  {
   "cell_type": "code",
   "execution_count": null,
   "metadata": {
    "tags": []
   },
   "outputs": [],
   "source": [
    "# RF\n",
    "from sklearn.ensemble import RandomForestRegressor\n",
    "\n",
    "rf_model = RandomForestRegressor(n_estimators=100,random_state=1)            \n",
    "rf_model.fit(x1_train, y1_train)"
   ]
  },
  {
   "cell_type": "code",
   "execution_count": null,
   "metadata": {
    "tags": []
   },
   "outputs": [],
   "source": [
    "evaluate(rf_model, x1_test, y_test)"
   ]
  },
  {
   "cell_type": "code",
   "execution_count": null,
   "metadata": {
    "tags": []
   },
   "outputs": [],
   "source": [
    "#cross validation\n",
    "cv = TimeSeriesSplit(n_splits = 10)\n",
    "scores = cross_val_score(rf_model, x2_train, y2_train, cv=cv,scoring='neg_mean_absolute_error')\n",
    "print(\"Accuracy: %0.2f (+/- %0.2f) degrees\" % (100+scores.mean(), scores.std() * 2))\n",
    "scores = cross_val_score(rf_model, x2_train, y2_train, cv=cv)\n",
    "print(\"R^2: %0.2f (+/- %0.2f) degrees\" % (scores.mean(), scores.std() * 2))"
   ]
  },
  {
   "cell_type": "code",
   "execution_count": null,
   "metadata": {
    "tags": []
   },
   "outputs": [],
   "source": [
    "y3_pred = rf_model.predict(x1_test)"
   ]
  },
  {
   "cell_type": "code",
   "execution_count": null,
   "metadata": {
    "tags": []
   },
   "outputs": [],
   "source": [
    "fig, ax = plt.subplots(figsize=(10,4), sharey=True)\n",
    "ax.scatter(y2_pred,y_test-y2_pred)\n",
    "ax.set_title('RF')\n",
    "fig.text(0.06, 0.5, 'Residuals', ha='center', va='center', rotation='vertical')\n",
    "fig.text(0.5, 0.01,'Fitted Values', ha='center', va='center')"
   ]
  },
  {
   "cell_type": "code",
   "execution_count": null,
   "metadata": {
    "tags": []
   },
   "outputs": [],
   "source": [
    "fig, ax = plt.subplots(figsize=(10,4), sharey=True)\n",
    "ax.scatter(y_test,y1_pred)\n",
    "ax.set_title('RF')\n",
    "fig.text(0.06, 0.5, 'Predictions', ha='center', va='center', rotation='vertical')\n",
    "fig.text(0.5, 0.01,'True Values', ha='center', va='center')"
   ]
  },
  {
   "cell_type": "code",
   "execution_count": null,
   "metadata": {
    "tags": []
   },
   "outputs": [],
   "source": [
    "# compare the predicted value and the actual value to predict whether our model is guilty of overfitting or underfitting\n",
    "fig = plt.figure(figsize=(20,8))\n",
    "plt.plot(y_test.values,label='Target value',color='b')\n",
    "plt.plot(y1_pred,label='RF ', linestyle='--', color='y')\n",
    "\n",
    "plt.legend(loc=1)"
   ]
  },
  {
   "cell_type": "code",
   "execution_count": null,
   "metadata": {
    "tags": []
   },
   "outputs": [],
   "source": [
    "from sklearn.model_selection import GridSearchCV, KFold\n",
    "\n",
    "parameters = {\n",
    "    'max_depth': [800,1000,1500],\n",
    "    'min_samples_leaf': [5,8,10],\n",
    "    'min_samples_split': [5,10,15],\n",
    "    'n_estimators': [40,60,100],\n",
    "    'random_state':[1]    \n",
    "}\n",
    "\n",
    "cv =cv\n",
    "grid_model = GridSearchCV(RandomForestRegressor(), parameters, cv=cv)\n",
    "\n",
    "grid_model = grid_model.fit(x1_train, y1_train)\n",
    "print(grid_model.best_estimator_)\n",
    "print(grid_model.best_params_)"
   ]
  },
  {
   "cell_type": "code",
   "execution_count": null,
   "metadata": {
    "tags": []
   },
   "outputs": [],
   "source": [
    "best_rf_model = grid_model.best_estimator_\n",
    "grid_accuracy = evaluate(grid_model, x1_test, y_test)\n",
    "y_best_pred = best_rf_model.predict(x1_test)"
   ]
  },
  {
   "cell_type": "markdown",
   "metadata": {},
   "source": [
    "The Variance score of the model impoved from 64.90% to 68.49%."
   ]
  },
  {
   "cell_type": "markdown",
   "metadata": {},
   "source": [
    "# Conclusion"
   ]
  },
  {
   "cell_type": "markdown",
   "metadata": {},
   "source": [
    "Comparing these three models and following the R square, and percentage of accuracy, RF model is the best model to predict the energy consumption from our data set and appears to fit with the test data. This result is efficient, since more than one variable of those variables are potential predictors of energy consumption, hour of the day is the most important parameter for energy consumption. "
   ]
  },
  {
   "cell_type": "code",
   "execution_count": null,
   "metadata": {},
   "outputs": [],
   "source": []
  }
 ],
 "metadata": {
  "kernelspec": {
   "display_name": "Python 3",
   "language": "python",
   "name": "python3"
  },
  "language_info": {
   "codemirror_mode": {
    "name": "ipython",
    "version": 3
   },
   "file_extension": ".py",
   "mimetype": "text/x-python",
   "name": "python",
   "nbconvert_exporter": "python",
   "pygments_lexer": "ipython3",
   "version": "3.9.6"
  }
 },
 "nbformat": 4,
 "nbformat_minor": 4
}
